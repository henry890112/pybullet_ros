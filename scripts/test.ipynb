{
 "cells": [
  {
   "cell_type": "code",
   "execution_count": 2,
   "metadata": {},
   "outputs": [
    {
     "name": "stdout",
     "output_type": "stream",
     "text": [
      "Mustard_1.0 {'total': 0, 'successful': 0}\n"
     ]
    }
   ],
   "source": [
    "import os \n",
    "import json\n",
    "import numpy as np\n",
    "\n",
    "parent_directory = os.path.dirname(os.getcwd()) \n",
    "file = os.path.join(parent_directory, \"object_index\", 'contact_plane_object.json')\n",
    "with open(file) as f:\n",
    "    file_dir = json.load(f)\n",
    "file_dir = file_dir['test_dataset']\n",
    "file_dir = [f[:-5] for f in file_dir]\n",
    "test_file_dir = list(set(file_dir))\n",
    "\n",
    "operations = {}\n",
    "\n",
    "# 循環處理每個文件名，提取物品名稱並初始化字典\n",
    "for filename in test_file_dir:\n",
    "    # 將標準化後的名稱用來初始化計數\n",
    "    operations[filename] = {\"total\": 0, \"successful\": 0}\n",
    "\n",
    "for item, data in operations.items():\n",
    "    print(item, data)\n",
    "    break"
   ]
  },
  {
   "cell_type": "code",
   "execution_count": 3,
   "metadata": {},
   "outputs": [
    {
     "name": "stdout",
     "output_type": "stream",
     "text": [
      "(0,)\n",
      "No grasps found\n"
     ]
    }
   ],
   "source": [
    "\n",
    "pred_grasps_cam = np.load(os.path.join(parent_directory, 'results/pred_grasps_cam.npy'), allow_pickle=True)\n",
    "print(pred_grasps_cam.shape)\n",
    "if len(pred_grasps_cam) == 0:\n",
    "    print(\"No grasps found\")\n"
   ]
  },
  {
   "cell_type": "code",
   "execution_count": 8,
   "metadata": {},
   "outputs": [
    {
     "name": "stdout",
     "output_type": "stream",
     "text": [
      "(3, 3)\n",
      "(3,)\n",
      "[[-0.12225409  0.45464666  0.14785567]\n",
      " [-0.12225409  0.45464666  0.14785567]\n",
      " [-0.12225409  0.45464666  0.14785567]]\n"
     ]
    }
   ],
   "source": [
    "sg_pcd = np.load(os.path.join(parent_directory, 'multiview_data/pc_segments_combine.npy'), allow_pickle=True)\n",
    "sg_noise_pcd = np.load(os.path.join(parent_directory, 'multiview_data/pc_segments_combine_noise.npy'), allow_pickle=True)\n",
    "print(sg_pcd.shape)\n",
    "print(sg_pcd[0].shape)\n",
    "print(sg_pcd)"
   ]
  },
  {
   "cell_type": "code",
   "execution_count": null,
   "metadata": {},
   "outputs": [],
   "source": []
  }
 ],
 "metadata": {
  "kernelspec": {
   "display_name": "base",
   "language": "python",
   "name": "python3"
  },
  "language_info": {
   "codemirror_mode": {
    "name": "ipython",
    "version": 3
   },
   "file_extension": ".py",
   "mimetype": "text/x-python",
   "name": "python",
   "nbconvert_exporter": "python",
   "pygments_lexer": "ipython3",
   "version": "3.8.10"
  }
 },
 "nbformat": 4,
 "nbformat_minor": 2
}

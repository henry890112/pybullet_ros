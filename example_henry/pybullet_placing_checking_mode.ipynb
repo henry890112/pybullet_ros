{
 "cells": [
  {
   "cell_type": "code",
   "execution_count": 1,
   "id": "5b5371fa",
   "metadata": {},
   "outputs": [
    {
     "name": "stderr",
     "output_type": "stream",
     "text": [
      "pybullet build time: Nov 28 2023 23:51:11\n"
     ]
    },
    {
     "name": "stdout",
     "output_type": "stream",
     "text": [
      "Jupyter environment detected. Enabling Open3D WebVisualizer.\n",
      "[Open3D INFO] WebRTC GUI backend enabled.\n",
      "[Open3D INFO] WebRTCWindowSystem: HTTP handshake server disabled.\n",
      "/home/user/contact_graspnet_ws/src/contact_graspnet_ros\n"
     ]
    }
   ],
   "source": [
    "import pybullet as p\n",
    "import numpy as np\n",
    "import sys\n",
    "import os\n",
    "import json\n",
    "import open3d as o3d\n",
    "import matplotlib.pyplot as plt\n",
    "import time\n",
    "from PIL import Image\n",
    "\n",
    "sys.path.append(\"../\")\n",
    "from env.ycb_scene import SimulatedYCBEnv\n",
    "from utils.grasp_checker import ValidGraspChecker\n",
    "from utils.utils import *\n",
    "from utils.planner import GraspPlanner\n",
    "import utils.tcp_utils as tcp_utils\n",
    "parent_directory = os.path.dirname(os.getcwd()) \n",
    "print(parent_directory)"
   ]
  },
  {
   "cell_type": "code",
   "execution_count": 2,
   "id": "6f9e5870",
   "metadata": {},
   "outputs": [],
   "source": [
    "from utils.planner import GraspPlanner\n",
    "planner = GraspPlanner()\n",
    "\n",
    "def expert_plan(goal_pose, world=False, visual=False):\n",
    "    if world:\n",
    "        pos, orn = env._get_ef_pose()\n",
    "        ef_pose_list = [*pos, *orn]\n",
    "    else:\n",
    "        ef_pose_list = [0, 0, 0, 0, 0, 0, 1]\n",
    "    goal_pos = [*goal_pose[:3], *ros_quat(goal_pose[3:])]\n",
    "\n",
    "    solver = planner.plan(ef_pose_list, goal_pos, path_length=30)\n",
    "    if visual:\n",
    "        path_visulization(solver)\n",
    "    path = solver.getSolutionPath().getStates()\n",
    "    planer_path = []\n",
    "    for i in range(len(path)):\n",
    "        waypoint = path[i]\n",
    "        rot = waypoint.rotation()\n",
    "        action = [waypoint.getX(), waypoint.getY(), waypoint.getZ(), rot.w, rot.x, rot.y, rot.z]\n",
    "        planer_path.append(action)\n",
    "\n",
    "    return planer_path\n",
    "\n",
    "def path_visulization(ss):\n",
    "    fig = plt.figure()\n",
    "    ax = plt.axes(projection='3d')\n",
    "    x = []\n",
    "    y = []\n",
    "    z = []\n",
    "    for i in range(len(ss.getSolutionPath().getStates())):\n",
    "        state = ss.getSolutionPath().getStates()[i]\n",
    "        x.append(state.getX())\n",
    "        y.append(state.getY())\n",
    "        z.append(state.getZ())\n",
    "    ax.plot(x, y, z, color='gray', label='Curve')\n",
    "\n",
    "    ax.scatter(x, y, z, c=z, cmap='jet', label='Points')\n",
    "    plt.show()\n",
    "    \n",
    "def execute_motion_plan(env, plan, execute=False, gripper_set=\"close\", repeat=100):\n",
    "    \"\"\"\n",
    "    Executes a series of movements in a robot environment based on the provided plan.\n",
    "\n",
    "    Parameters:\n",
    "    - env: The current robot environment, providing inverse kinematics solving and stepping capabilities.\n",
    "    - plan: A plan containing target positions, each position is a list with coordinates and orientation.\n",
    "    - execute: A boolean indicating whether to execute the actions. If False, only resets the robot's joint positions without stepping through the environment.\n",
    "    \"\"\"\n",
    "\n",
    "    '''\n",
    "    plan中的每一個step都會做碰撞檢查, 如果有碰撞就會停止並回傳flase\n",
    "    '''\n",
    "    for i in range(len(plan)):\n",
    "        # Set target position using world frame based coordinates\n",
    "        next_pos = plan[i]\n",
    "        jointPoses = env._panda.solveInverseKinematics(next_pos[:3], ros_quat(next_pos[3:]))\n",
    "        if gripper_set == \"close\":\n",
    "            jointPoses[6] = 0.85\n",
    "        else:\n",
    "            jointPoses[6] = 0.0\n",
    "        jointPoses = jointPoses[:7].copy()  # Consider only the first 7 joint positions\n",
    "                \n",
    "        if execute:\n",
    "            # Execute the action and obtain the observation\n",
    "            obs = env.step(jointPoses, config=True, repeat=repeat)[0]\n",
    "            # print(\"JointPoses = \", jointPoses)\n",
    "        else:\n",
    "            # Only reset the robot's joint positions\n",
    "            env._panda.reset(joints=jointPoses)\n",
    "            # 在path length中每一步都檢查是否會發生碰撞\n",
    "            if(env._panda.check_for_collisions() == True):\n",
    "                print(\"Collision detected in the path\")\n",
    "                return False\n",
    "    return True"
   ]
  },
  {
   "cell_type": "code",
   "execution_count": 3,
   "id": "3790a762",
   "metadata": {},
   "outputs": [],
   "source": [
    "### 將open3d下的點雲轉到world座標\n",
    "world_frame_pose = np.array([[ 1.,    0.,    0.,   -0.05],\n",
    "                            [ 0.,    1.,    0.,    0.  ],\n",
    "                            [ 0.,    0.,    1.,   -0.65],\n",
    "                            [ 0.,    0.,    0.,    1.  ]])\n",
    "\n",
    "init_ef_mat = np.array([[-1.98785608e-01,  7.23231525e-01,  6.61377686e-01,  1.06898375e-01],\n",
    "                        [9.80042993e-01,  1.46612626e-01,  1.34240345e-01, -9.29623842e-02],\n",
    "                        [1.20530092e-04,  6.74863616e-01, -7.37942468e-01, -0.3],\n",
    "                        [0.00000000e+00,  0.00000000e+00,  0.00000000e+00,  1.00000000e+00]])\n",
    "\n",
    "left_view_ef_mat = np.array([[ 0.98757027,  0.02243495,  0.15556875,  0.45691898],\n",
    "                            [ 0.14573556, -0.501431,   -0.85283533,  0.36891946],\n",
    "                            [ 0.05887368,  0.86490672, -0.49846791, -0.3],\n",
    "                            [ 0.,          0.,          0.,          1.]])\n",
    "\n",
    "right_view_ef_mat = np.array([[ 0.98691477, -0.16087768,  0.010845,    0.46446365],\n",
    "                            [-0.10023915, -0.55945926,  0.82277424, -0.28816143],\n",
    "                            [-0.12629867, -0.81309514, -0.56826485, -0.3],\n",
    "                            [ 0.,          0.,          0.,          1.]])\n",
    "\n",
    "cam_offset = np.eye(4)\n",
    "# 先轉到pybullet座標後再往上移動0.13變相機座標\n",
    "cam_offset[:3, 3] = (np.array([0., 0.1186, -0.0191344123493]))\n",
    "# open3d 和 pybullet中的coordinate要對z旋轉180度才會一樣\n",
    "cam_offset[:3, :3] = np.array([[-1, 0, 0],\n",
    "                                [0, -1, 0],\n",
    "                                [0, 0, 1]])\n",
    "\n",
    "intrinsic_matrix = np.array([[320, 0, 320],\n",
    "                             [0, 320, 320],\n",
    "                             [0, 0, 1]])\n",
    "\n",
    "### 轉換關係\n",
    "origin_camera2world = cam_offset@ np.linalg.inv(init_ef_mat)@ world_frame_pose\n",
    "left_camera2world = cam_offset@ np.linalg.inv(left_view_ef_mat)@ world_frame_pose\n",
    "right_camera2world = cam_offset@ np.linalg.inv(right_view_ef_mat)@ world_frame_pose"
   ]
  },
  {
   "cell_type": "code",
   "execution_count": 4,
   "id": "3cb94237",
   "metadata": {},
   "outputs": [
    {
     "name": "stdout",
     "output_type": "stream",
     "text": [
      "startThreads creating 1 threads.\n",
      "starting thread 0\n",
      "started thread 0 \n",
      "argc=2\n",
      "argv[0] = --unused\n",
      "argv[1] = --start_demo_name=Physics Server\n",
      "ExampleBrowserThreadFunc started\n",
      "X11 functions dynamically loaded using dlopen/dlsym OK!\n",
      "X11 functions dynamically loaded using dlopen/dlsym OK!\n",
      "Creating context\n",
      "Created GL 3.3 context\n",
      "Direct GLX rendering context obtained\n",
      "Making context current\n",
      "GL_VENDOR=NVIDIA Corporation\n",
      "GL_RENDERER=NVIDIA GeForce GTX 1080 Ti/PCIe/SSE2\n",
      "GL_VERSION=3.3.0 NVIDIA 535.171.04\n",
      "GL_SHADING_LANGUAGE_VERSION=3.30 NVIDIA via Cg compiler\n",
      "pthread_getconcurrency()=0\n",
      "Version = 3.3.0 NVIDIA 535.171.04\n",
      "Vendor = NVIDIA Corporation\n",
      "Renderer = NVIDIA GeForce GTX 1080 Ti/PCIe/SSE2\n",
      "b3Printf: Selected demo: Physics Server\n",
      "startThreads creating 1 threads.\n",
      "starting thread 0\n",
      "started thread 0 \n",
      "MotionThreadFunc thread started\n",
      "numActiveThreads = 0\n",
      "stopping threads\n",
      "destroy semaphore\n",
      "semaphore destroyed\n",
      "Thread with taskId 0 exiting\n",
      "Thread TERMINATED\n",
      "destroy main semaphore\n",
      "main semaphore destroyed\n",
      "finished\n",
      "numActiveThreads = 0\n",
      "btShutDownExampleBrowser stopping threads\n",
      "Thread with taskId 0 exiting\n",
      "Thread TERMINATED\n",
      "destroy semaphore\n",
      "semaphore destroyed\n",
      "destroy main semaphore\n",
      "main semaphore destroyed\n",
      "startThreads creating 1 threads.\n",
      "starting thread 0\n",
      "started thread 0 \n",
      "argc=2\n",
      "argv[0] = --unused\n",
      "argv[1] = --start_demo_name=Physics Server\n",
      "ExampleBrowserThreadFunc started\n",
      "X11 functions dynamically loaded using dlopen/dlsym OK!\n",
      "X11 functions dynamically loaded using dlopen/dlsym OK!\n",
      "Creating context\n",
      "Created GL 3.3 context\n",
      "Direct GLX rendering context obtained\n",
      "Making context current\n",
      "GL_VENDOR=NVIDIA Corporation\n",
      "GL_RENDERER=NVIDIA GeForce GTX 1080 Ti/PCIe/SSE2\n",
      "GL_VERSION=3.3.0 NVIDIA 535.171.04\n",
      "GL_SHADING_LANGUAGE_VERSION=3.30 NVIDIA via Cg compiler\n",
      "pthread_getconcurrency()=0\n",
      "Version = 3.3.0 NVIDIA 535.171.04\n",
      "Vendor = NVIDIA Corporation\n",
      "Renderer = NVIDIA GeForce GTX 1080 Ti/PCIe/SSE2\n",
      "b3Printf: Selected demo: Physics Server\n",
      "startThreads creating 1 threads.\n",
      "starting thread 0\n",
      "started thread 0 \n",
      "MotionThreadFunc thread started\n",
      "ven = NVIDIA Corporation\n",
      "ven = NVIDIA Corporation\n",
      "b3Printf: b3Warning[examples/Importers/ImportURDFDemo/BulletUrdfImporter.cpp,126]:\n",
      "\n",
      "b3Printf: No inertial data for link, using mass=1, localinertiadiagonal = 1,1,1, identity local inertial frame\n",
      "b3Printf: b3Warning[examples/Importers/ImportURDFDemo/BulletUrdfImporter.cpp,126]:\n",
      "\n",
      "b3Printf: base\n"
     ]
    }
   ],
   "source": [
    "%%capture\n",
    "'''\n",
    "get data file name in json file and load mesh in pybullet\n",
    "then reset robot and object position\n",
    "'''\n",
    "# tcp server\n",
    "target_place_name = tcp_utils.start_server_target_name('127.0.0.1', 11111)\n",
    "file = os.path.join(parent_directory, \"object_index\", 'contact_plane_object.json')   # 此json檔可以自己改\n",
    "with open(file) as f: file_dir = json.load(f)\n",
    "file_dir = file_dir[target_place_name]     #只取json檔中的\"test\"\n",
    "file_dir = [f[:-5] for f in file_dir]\n",
    "test_file_dir = list(set(file_dir))\n",
    "\n",
    "env = SimulatedYCBEnv()\n",
    "env._load_index_objs(test_file_dir)      #597\n",
    "\n",
    "#ycb scene 中的 init 可以定義target_fixed, true代表target object不會自由落下 (第一次呼叫cabinet設定即可)\n",
    "state = env.cabinet(save=False, enforce_face_target=True)  "
   ]
  },
  {
   "cell_type": "code",
   "execution_count": 5,
   "id": "f43b6cd8",
   "metadata": {},
   "outputs": [],
   "source": [
    "'''\n",
    "single release: (只在num_object = 1有用) true為以自己設定的角度放在桌上; (多object也可用)false就是pack放在桌上\n",
    "if_stack: true代表旁邊有東西會擋住掉落下來的物體\n",
    "'''\n",
    "num_object = 0\n",
    "single_release = False\n",
    "if_stack = False\n",
    "vis = True\n",
    "\n",
    "state = env.cabinet(save=False, reset_free=True, num_object=num_object, if_stack=if_stack, single_release=single_release)"
   ]
  },
  {
   "cell_type": "code",
   "execution_count": 6,
   "id": "559251eb",
   "metadata": {},
   "outputs": [
    {
     "name": "stdout",
     "output_type": "stream",
     "text": [
      "{}\n"
     ]
    }
   ],
   "source": [
    "placed_obj = {}\n",
    "placed_idx = np.where(np.array(env.placed_objects))[0]\n",
    "placed_name = np.array(env.obj_indexes)[np.where(np.array(env.placed_objects))]\n",
    "for i in range(num_object):\n",
    "    placed_obj[placed_idx[i]] = placed_name[i]\n",
    "print(placed_obj)"
   ]
  },
  {
   "cell_type": "markdown",
   "id": "cde183ea",
   "metadata": {},
   "source": [
    "## Valid Grasp Pose Checker\n",
    "This API will take input as grasping pose group and validate collision between gripper and target object. It uses pybullet API to test if the gripper mesh has contact points with current environment when the gripper is set to fully opened."
   ]
  },
  {
   "cell_type": "code",
   "execution_count": 7,
   "id": "b277c108",
   "metadata": {},
   "outputs": [
    {
     "name": "stdout",
     "output_type": "stream",
     "text": [
      "/home/user/contact_graspnet_ws/src/contact_graspnet_ros/env/models\n",
      "b3Printf: b3Warning[examples/Importers/ImportURDFDemo/BulletUrdfImporter.cpp,126]:\n",
      "\n",
      "b3Printf: No inertial data for link, using mass=1, localinertiadiagonal = 1,1,1, identity local inertial frame\n",
      "b3Printf: b3Warning[examples/Importers/ImportURDFDemo/BulletUrdfImporter.cpp,126]:\n",
      "\n",
      "b3Printf: base\n"
     ]
    }
   ],
   "source": [
    "'''\n",
    "When user declare a checker, it will load a additional robot gripper at world origin.\n",
    "Do NOT re-declare ValidGraspChecker.\n",
    "'''\n",
    "\n",
    "grasp_checker = ValidGraspChecker(env)"
   ]
  },
  {
   "attachments": {},
   "cell_type": "markdown",
   "id": "ce86a281",
   "metadata": {},
   "source": [
    "# 將final中轉換後的所有的grasp pose load進來"
   ]
  },
  {
   "cell_type": "code",
   "execution_count": 8,
   "id": "f98f1747",
   "metadata": {},
   "outputs": [
    {
     "name": "stdout",
     "output_type": "stream",
     "text": [
      "服務端啟動，等待連接於 127.0.0.1:22222...\n",
      "來自 ('127.0.0.1', 52082) 的連接已建立。\n",
      "接收到數據：checker\n",
      "接收到checker，服務端將繼續執行。\n",
      "成功接收到：checker\n",
      "(65, 4, 4)\n",
      "(65,)\n"
     ]
    }
   ],
   "source": [
    "# tcp 接收\n",
    "checker_message = tcp_utils.start_server_checker('127.0.0.1', 22222)\n",
    "if checker_message:\n",
    "    print(f\"成功接收到：{checker_message}\")\n",
    "new_pred_grasps_cam_place = np.load(os.path.join(parent_directory, 'results', 'new_pred_grasps_cam_place.npy'), allow_pickle=True)\n",
    "print(new_pred_grasps_cam_place.shape)\n",
    "scores = np.load(os.path.join(parent_directory, 'results', 'scores.npy'), allow_pickle=True)\n",
    "print(scores.shape)"
   ]
  },
  {
   "attachments": {},
   "cell_type": "markdown",
   "id": "48f13b21",
   "metadata": {},
   "source": [
    "### 擺放target object到place pose"
   ]
  },
  {
   "cell_type": "code",
   "execution_count": 9,
   "id": "b2230d13",
   "metadata": {},
   "outputs": [
    {
     "name": "stdout",
     "output_type": "stream",
     "text": [
      "伺服器啟動，等待連接並接收...\n",
      "來自 ('127.0.0.1', 48984) 的連接已建立\n",
      "接收到的矩陣：\n",
      "[[-1.22464680e-16 -1.00000000e+00  0.00000000e+00  1.00000000e-01]\n",
      " [ 1.00000000e+00 -1.22464680e-16  0.00000000e+00  5.00000000e-01]\n",
      " [ 0.00000000e+00  0.00000000e+00  1.00000000e+00 -2.42997285e-01]\n",
      " [ 0.00000000e+00  0.00000000e+00  0.00000000e+00  1.00000000e+00]]\n",
      "伺服器啟動，等待連接並接收...\n",
      "來自 ('127.0.0.1', 50276) 的連接已建立\n",
      "接收到的矩陣：\n",
      "[[ 0.          1.          0.          0.1       ]\n",
      " [-1.          0.         -0.          0.5       ]\n",
      " [-0.          0.          1.         -0.24299729]\n",
      " [ 0.          0.          0.          1.        ]]\n",
      "伺服器啟動，等待連接並接收...\n",
      "來自 ('127.0.0.1', 33448) 的連接已建立\n",
      "接收到的矩陣：\n",
      "[[ 0.50906861  0.20516006  0.83591779  0.52574225]\n",
      " [-0.78443087 -0.28916305  0.54868295 -0.02939598]\n",
      " [ 0.35428435 -0.93503692  0.01373006 -0.56927124]\n",
      " [ 0.          0.          0.          1.        ]]\n",
      "['005_tomato_soup_can_1.0']\n",
      "urdfList:  ['data/objects/005_tomato_soup_can_1.0/model_normalized.urdf']\n",
      "0\n",
      "0\n",
      "place_target_matrix is not None\n",
      ">>>> target name: 005_tomato_soup_can_1.0\n"
     ]
    },
    {
     "data": {
      "text/plain": [
       "'\\n此place_pose傳進去之後是改變原本urdf物品的6d pose, 但我們的6d pose有經過自己的演算法對z軸進行旋轉, \\n所以要利用相對關係將此pose轉換回來\\n'"
      ]
     },
     "execution_count": 9,
     "metadata": {},
     "output_type": "execute_result"
    }
   ],
   "source": [
    "# relative pose of z axis rotation\n",
    "def get_rotation_matrix_z_4x4(input_value):\n",
    "    # 將輸入值轉換為旋轉角度（度）\n",
    "    rotation_angle_degrees = 90 * input_value\n",
    "    # 將旋轉角度轉換為弧度\n",
    "    rotation_angle_radians = np.radians(rotation_angle_degrees)\n",
    "    \n",
    "    # 計算 4x4 旋轉矩陣\n",
    "    rotation_matrix = np.array([\n",
    "        [np.cos(rotation_angle_radians), -np.sin(rotation_angle_radians), 0, 0],\n",
    "        [np.sin(rotation_angle_radians), np.cos(rotation_angle_radians), 0, 0],\n",
    "        [0, 0, 1, 0],\n",
    "        [0, 0, 0, 1]\n",
    "    ])\n",
    "    \n",
    "    return rotation_matrix\n",
    "\n",
    "# tcp client\n",
    "final_place_target_matrix = tcp_utils.start_server('127.0.0.1', 33333)\n",
    "place_pose_world = tcp_utils.start_server('127.0.0.1', 55557)\n",
    "target_pose_world = tcp_utils.start_server('127.0.0.1', 56565)\n",
    "\n",
    "print(env.obj_indexes)\n",
    "state = env.cabinet(save=False, reset_free=True, num_object=1, \n",
    "if_stack=if_stack, single_release=single_release, place_target_matrix=final_place_target_matrix)\n",
    "'''\n",
    "此place_pose傳進去之後是改變原本urdf物品的6d pose, 但我們的6d pose有經過自己的演算法對z軸進行旋轉, \n",
    "所以要利用相對關係將此pose轉換回來\n",
    "'''"
   ]
  },
  {
   "cell_type": "code",
   "execution_count": 10,
   "id": "37c332e4",
   "metadata": {},
   "outputs": [
    {
     "name": "stdout",
     "output_type": "stream",
     "text": [
      "[ 1  6 11 12 24 29 35 42 46 47 53 55 58 59]\n",
      "grasp_index =  14\n",
      "scores =  65\n",
      "(65,)\n",
      "max_score =  0.26910412\n",
      "max_index =  53\n",
      "Number of valid grasp: 14\n"
     ]
    }
   ],
   "source": [
    "'''\n",
    "The extract_grasp() function takes grasp group[N, 4, 4] as input and outputs valid grasps.\n",
    "The parameter \"drawback_distance\" is the distance to draw back the end effector pose along z-axis in validation process.\n",
    "The parameter \"filter_elbow\" denote if checker use estimated elbow point and bounding box of table\n",
    "    as one of the measurements to prevent collision of other joint.\n",
    "Note: The estimated elbow point is NOT calculate by IK, so it's nearly a rough guess.\n",
    "'''\n",
    "\n",
    "grasp_array, grasp_index = grasp_checker.extract_grasp(new_pred_grasps_cam_place,\n",
    "                                                       drawback_distance=0.03,\n",
    "                                                       visual=True,\n",
    "                                                       filter_elbow=True,\n",
    "                                                       time=0.05, distance=0.0001)\n",
    "# 找到grasp_index中最大的score\n",
    "max_score = 0\n",
    "max_index = 0\n",
    "print(grasp_index)\n",
    "print(\"grasp_index = \", len(grasp_index))\n",
    "print(\"scores = \", len(scores))\n",
    "print(scores.shape)\n",
    "for i in range(len(grasp_index)):\n",
    "    if scores[grasp_index[i]] > max_score:\n",
    "        max_score = scores[grasp_index[i]]\n",
    "        max_index = grasp_index[i]\n",
    "print(\"max_score = \", max_score)\n",
    "print(\"max_index = \", max_index)\n",
    "\n",
    "# print the number of valid grasp\n",
    "print(f\"Number of valid grasp: {len(grasp_index)}\")\n"
   ]
  },
  {
   "cell_type": "code",
   "execution_count": 11,
   "id": "9f9bd60f",
   "metadata": {},
   "outputs": [
    {
     "name": "stdout",
     "output_type": "stream",
     "text": [
      "Number of valid grasp: 14\n"
     ]
    }
   ],
   "source": [
    "# Visualize validation process by setting \"visual=True\"\n",
    "if len(grasp_index):\n",
    "    _, _ = grasp_checker.extract_grasp(grasp_array,\n",
    "                                       drawback_distance=0.03,\n",
    "                                       visual=True, time=0.1)\n",
    "print(f\"Number of valid grasp: {len(grasp_index)}\")                                    "
   ]
  },
  {
   "attachments": {},
   "cell_type": "markdown",
   "id": "5d4f5caf",
   "metadata": {},
   "source": [
    "# 測試夾取及擺放是否能成功\n",
    "的到world ef的place pose和grasp pose"
   ]
  },
  {
   "attachments": {},
   "cell_type": "markdown",
   "id": "d5f232c8",
   "metadata": {},
   "source": [
    "### sort grasp index & check the place pose 是否可以放置"
   ]
  },
  {
   "cell_type": "code",
   "execution_count": 12,
   "id": "30ed38c2",
   "metadata": {},
   "outputs": [
    {
     "name": "stdout",
     "output_type": "stream",
     "text": [
      "grasp_index =  [53 24 46 47 35  6 11 58 59  1 29 12 42 55]\n"
     ]
    }
   ],
   "source": [
    "env._panda.reset() \n",
    " # 將best_grasp_pose的y軸和[1, 0, 0]做內積, 若<0則代表要旋轉180度\n",
    "# 僅遍歷 grasp_index 中包含的索引, 且grasp index依照分數高低排好\n",
    "grasp_index = np.array(grasp_index)\n",
    "grasp_index = grasp_index[np.argsort(-scores[grasp_index])]\n",
    "print(\"grasp_index = \", grasp_index)\n",
    "for i in grasp_index:\n",
    "    grasp_pose = new_pred_grasps_cam_place[i]\n",
    "    # 檢查並根據條件進行旋轉\n",
    "    if np.dot(grasp_pose[:3, 1], np.array([0, 0, 1])) < 0:\n",
    "        # print(f\"Grasp pose {i}：Rotate 180 degree\")\n",
    "        new_pred_grasps_cam_place[i] = np.dot(grasp_pose, rotZ(np.pi))"
   ]
  },
  {
   "cell_type": "code",
   "execution_count": 13,
   "id": "9a4f9252",
   "metadata": {},
   "outputs": [],
   "source": [
    "def execute_plan_with_check(env, pose, execute, draw_coordinate):\n",
    "    if draw_coordinate:\n",
    "        env.draw_ef_coordinate(pose, 1)\n",
    "    plan = expert_plan(pack_pose(pose), world=True, visual=False)\n",
    "    # checker true代表對的plan及pose\n",
    "    plan_checker = execute_motion_plan(env, plan, execute=execute, gripper_set=\"open\")\n",
    "    checker = check_pose_difference(env._get_ef_pose(mat=True), pose, tolerance=0.02)\n",
    "    return plan_checker, checker\n",
    "\n",
    "def adjust_pose_with_bias(pose, bias):\n",
    "    return pose.dot(transZ(bias))"
   ]
  },
  {
   "cell_type": "code",
   "execution_count": 14,
   "id": "e07371e4",
   "metadata": {},
   "outputs": [
    {
     "name": "stdout",
     "output_type": "stream",
     "text": [
      "Debug:   RRTstar: Planner range detected to be 7.242362\n",
      "Info:    RRTstar: Started planning with 1 states. Seeking a solution better than 0.00000.\n",
      "Info:    RRTstar: Initial k-nearest value of 310\n",
      "Info:    RRTstar: Found an initial solution with a cost of 1.02 in 36 iterations (37 vertices in the graph)\n",
      "Interpolate Path length to 30\n",
      "Info:    RRTstar: Created 960 new states. Checked 461280 rewire options. 1 goal states in tree. Final solution cost 1.018\n",
      "translation_diff =  6.968186194921215e-09\n",
      "rotation_diff =  0.0\n",
      "=====================================================\n",
      "Debug:   RRTstar: Planner range detected to be 7.242362\n",
      "Info:    RRTstar: Started planning with 1 states. Seeking a solution better than 0.00000.\n",
      "Info:    RRTstar: Initial k-nearest value of 310\n",
      "Info:    RRTstar: Found an initial solution with a cost of 1.01 in 4 iterations (5 vertices in the graph)\n",
      "Interpolate Path length to 30\n",
      "translation_diff =  1.71201308362245e-08\n",
      "rotation_diff =  6.664001874625058e-08\n",
      "=====================================================\n",
      "Info:    RRTstar: Created 976 new states. Checked 476776 rewire options. 1 goal states in tree. Final solution cost 1.010\n",
      "Debug:   RRTstar: Planner range detected to be 7.242362\n",
      "Info:    RRTstar: Started planning with 1 states. Seeking a solution better than 0.00000.\n",
      "Info:    RRTstar: Initial k-nearest value of 310\n",
      "Info:    RRTstar: Found an initial solution with a cost of 0.66 in 131 iterations (132 vertices in the graph)\n",
      "Interpolate Path length to 30\n",
      "Info:    RRTstar: Created 810 new states. Checked 328455 rewire options. 1 goal states in tree. Final solution cost 0.658\n",
      "translation_diff =  0.00010989509012832847\n",
      "rotation_diff =  0.0\n",
      "=====================================================\n",
      "找到合適的放置姿態。\n"
     ]
    }
   ],
   "source": [
    "execute = False\n",
    "draw_coordinate = True\n",
    "count = 0\n",
    "\n",
    "for i in grasp_index:\n",
    "    env._panda.reset()\n",
    "    checker_list = []\n",
    "    \n",
    "    grasp_pose = new_pred_grasps_cam_place[i]\n",
    "    relative_grasp_transform = np.linalg.inv(place_pose_world) @ grasp_pose\n",
    "    final_grasp_pose = target_pose_world @ relative_grasp_transform\n",
    "    \n",
    "    # 第一次執行計劃並檢查\n",
    "    pose_z_bias = adjust_pose_with_bias(final_grasp_pose, -0.1)\n",
    "    plan_checker, checker = execute_plan_with_check(env, pose_z_bias, execute, draw_coordinate)\n",
    "    print(\"=====================================================\")\n",
    "    time.sleep(0.2)\n",
    "\n",
    "    if not plan_checker or not checker:\n",
    "        if not plan_checker and not checker:\n",
    "            print(\"No.1存在碰撞且檢查失敗。\")\n",
    "        elif not plan_checker:\n",
    "            print(\"No.1路徑存在碰撞。\")\n",
    "        elif not checker:\n",
    "            print(\"No.1姿態錯誤。\")\n",
    "        continue\n",
    "\n",
    "    # 第二次執行計劃並檢查\n",
    "    mid_retract_pose = transZ(-0.2)@ transX(0.3)@ transY(0.3)@ np.eye(4)@ rotZ(np.pi/4*3)@ rotX(np.pi/4*3)\n",
    "    plan_checker, checker = execute_plan_with_check(env, mid_retract_pose, execute, draw_coordinate)\n",
    "    print(\"=====================================================\")\n",
    "    time.sleep(0.2)\n",
    "    if not plan_checker or not checker:\n",
    "        if not plan_checker and not checker:\n",
    "            print(\"No.2存在碰撞且檢查失敗。\")\n",
    "        elif not plan_checker:\n",
    "            print(\"No.2路徑存在碰撞。\")\n",
    "        elif not checker:\n",
    "            print(\"No.2姿態錯誤。\")\n",
    "        continue\n",
    "        \n",
    "    # 第三次執行計劃並檢查\n",
    "    pose_z_bias = adjust_pose_with_bias(grasp_pose, 0.015)\n",
    "    plan_checker, checker = execute_plan_with_check(env, pose_z_bias, execute, draw_coordinate)\n",
    "    print(\"=====================================================\")\n",
    "    time.sleep(0.2)\n",
    "    if not plan_checker or not checker:\n",
    "        if not plan_checker and not checker:\n",
    "            print(\"No.3存在碰撞且檢查失敗。\")\n",
    "        elif not plan_checker:\n",
    "            print(\"No.3路徑存在碰撞。\")\n",
    "        elif not checker:\n",
    "            print(\"No.3姿態錯誤。\")\n",
    "        continue\n",
    "\n",
    "\n",
    "    count += 1\n",
    "    \n",
    "    tcp_utils.send_matrix('127.0.0.1', 44444, grasp_pose)\n",
    "    print(\"找到合適的放置姿態。\")\n",
    "    _, _ = grasp_checker.extract_grasp(np.expand_dims(grasp_pose, axis=0),\n",
    "                                    drawback_distance=0.03,\n",
    "                                    visual=True, time=5)\n",
    "    break\n"
   ]
  }
 ],
 "metadata": {
  "kernelspec": {
   "display_name": "Python 3 (ipykernel)",
   "language": "python",
   "name": "python3"
  },
  "language_info": {
   "codemirror_mode": {
    "name": "ipython",
    "version": 3
   },
   "file_extension": ".py",
   "mimetype": "text/x-python",
   "name": "python",
   "nbconvert_exporter": "python",
   "pygments_lexer": "ipython3",
   "version": "3.8.10"
  }
 },
 "nbformat": 4,
 "nbformat_minor": 5
}

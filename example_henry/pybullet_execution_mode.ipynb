{
 "cells": [
  {
   "cell_type": "code",
   "execution_count": 1,
   "id": "5b5371fa",
   "metadata": {},
   "outputs": [
    {
     "name": "stderr",
     "output_type": "stream",
     "text": [
      "pybullet build time: Nov 28 2023 23:51:11\n"
     ]
    },
    {
     "name": "stdout",
     "output_type": "stream",
     "text": [
      "Jupyter environment detected. Enabling Open3D WebVisualizer.\n",
      "[Open3D INFO] WebRTC GUI backend enabled.\n",
      "[Open3D INFO] WebRTCWindowSystem: HTTP handshake server disabled.\n",
      "/home/user/henry_pybullet_ws/src/pybullet_ros\n"
     ]
    }
   ],
   "source": [
    "import pybullet as p\n",
    "import numpy as np\n",
    "import sys\n",
    "import os\n",
    "import json\n",
    "import open3d as o3d\n",
    "import matplotlib.pyplot as plt\n",
    "import time\n",
    "from PIL import Image\n",
    "\n",
    "sys.path.append(\"../\")\n",
    "from env.ycb_scene import SimulatedYCBEnv\n",
    "from utils.grasp_checker import ValidGraspChecker\n",
    "from utils.utils import *\n",
    "from utils.planner import GraspPlanner\n",
    "import utils.tcp_utils as tcp_utils\n",
    "\n",
    "parent_directory = os.path.dirname(os.getcwd()) \n",
    "print(parent_directory)"
   ]
  },
  {
   "cell_type": "code",
   "execution_count": 2,
   "id": "6f9e5870",
   "metadata": {},
   "outputs": [],
   "source": [
    "from utils.planner import GraspPlanner\n",
    "planner = GraspPlanner()\n",
    "\n",
    "def expert_plan(goal_pose, world=False, visual=False):\n",
    "    if world:\n",
    "        pos, orn = env._get_ef_pose()\n",
    "        ef_pose_list = [*pos, *orn]\n",
    "    else:\n",
    "        ef_pose_list = [0, 0, 0, 0, 0, 0, 1]\n",
    "    goal_pos = [*goal_pose[:3], *ros_quat(goal_pose[3:])]\n",
    "\n",
    "    solver = planner.plan(ef_pose_list, goal_pos, path_length=30)\n",
    "    if visual:\n",
    "        path_visulization(solver)\n",
    "    path = solver.getSolutionPath().getStates()\n",
    "    planer_path = []\n",
    "    for i in range(len(path)):\n",
    "        waypoint = path[i]\n",
    "        rot = waypoint.rotation()\n",
    "        action = [waypoint.getX(), waypoint.getY(), waypoint.getZ(), rot.w, rot.x, rot.y, rot.z]\n",
    "        planer_path.append(action)\n",
    "\n",
    "    return planer_path\n",
    "\n",
    "def path_visulization(ss):\n",
    "    fig = plt.figure()\n",
    "    ax = plt.axes(projection='3d')\n",
    "    x = []\n",
    "    y = []\n",
    "    z = []\n",
    "    for i in range(len(ss.getSolutionPath().getStates())):\n",
    "        state = ss.getSolutionPath().getStates()[i]\n",
    "        x.append(state.getX())\n",
    "        y.append(state.getY())\n",
    "        z.append(state.getZ())\n",
    "    ax.plot(x, y, z, color='gray', label='Curve')\n",
    "\n",
    "    ax.scatter(x, y, z, c=z, cmap='jet', label='Points')\n",
    "    plt.show()\n",
    "    \n",
    "def execute_motion_plan(env, plan, execute=False, gripper_set=\"close\", repeat=100):\n",
    "    \"\"\"\n",
    "    Executes a series of movements in a robot environment based on the provided plan.\n",
    "\n",
    "    Parameters:\n",
    "    - env: The current robot environment, providing inverse kinematics solving and stepping capabilities.\n",
    "    - plan: A plan containing target positions, each position is a list with coordinates and orientation.\n",
    "    - execute: A boolean indicating whether to execute the actions. If False, only resets the robot's joint positions without stepping through the environment.\n",
    "    \"\"\"\n",
    "\n",
    "    '''\n",
    "    plan中的每一個step都會做碰撞檢查, 如果有碰撞就會停止並回傳flase\n",
    "    '''\n",
    "    for i in range(len(plan)):\n",
    "        # Set target position using world frame based coordinates\n",
    "        next_pos = plan[i]\n",
    "        jointPoses = env._panda.solveInverseKinematics(next_pos[:3], ros_quat(next_pos[3:]))\n",
    "        if gripper_set == \"close\":\n",
    "            jointPoses[6] = 0.85\n",
    "        else:\n",
    "            jointPoses[6] = 0.0\n",
    "        jointPoses = jointPoses[:7].copy()  # Consider only the first 7 joint positions\n",
    "                \n",
    "        if execute:\n",
    "            # Execute the action and obtain the observation\n",
    "            obs = env.step(jointPoses, config=True, repeat=repeat)[0]\n",
    "            # print(\"JointPoses = \", jointPoses)\n",
    "        else:\n",
    "            # Only reset the robot's joint positions\n",
    "            env._panda.reset(joints=jointPoses)\n",
    "            # 在path length中每一步都檢查是否會發生碰撞\n",
    "            if(env._panda.check_for_collisions() == True):\n",
    "                print(\"Collision detected in the path\")\n",
    "                return False\n",
    "    return True"
   ]
  },
  {
   "cell_type": "code",
   "execution_count": 3,
   "id": "3cb94237",
   "metadata": {},
   "outputs": [
    {
     "name": "stdout",
     "output_type": "stream",
     "text": [
      "startThreads creating 1 threads.\n",
      "starting thread 0\n",
      "started thread 0 \n",
      "argc=2\n",
      "argv[0] = --unused\n",
      "argv[1] = --start_demo_name=Physics Server\n",
      "ExampleBrowserThreadFunc started\n",
      "X11 functions dynamically loaded using dlopen/dlsym OK!\n",
      "X11 functions dynamically loaded using dlopen/dlsym OK!\n",
      "Creating context\n",
      "Created GL 3.3 context\n",
      "Direct GLX rendering context obtained\n",
      "Making context current\n",
      "GL_VENDOR=NVIDIA Corporation\n",
      "GL_RENDERER=NVIDIA GeForce GTX 1080 Ti/PCIe/SSE2\n",
      "GL_VERSION=3.3.0 NVIDIA 535.171.04\n",
      "GL_SHADING_LANGUAGE_VERSION=3.30 NVIDIA via Cg compiler\n",
      "pthread_getconcurrency()=0\n",
      "Version = 3.3.0 NVIDIA 535.171.04\n",
      "Vendor = NVIDIA Corporation\n",
      "Renderer = NVIDIA GeForce GTX 1080 Ti/PCIe/SSE2\n",
      "b3Printf: Selected demo: Physics Server\n",
      "startThreads creating 1 threads.\n",
      "starting thread 0\n",
      "started thread 0 \n",
      "MotionThreadFunc thread started\n",
      "numActiveThreads = 0\n",
      "stopping threads\n",
      "destroy semaphore\n",
      "Thread with taskId 0 exiting\n",
      "Thread TERMINATED\n",
      "semaphore destroyed\n",
      "destroy main semaphore\n",
      "main semaphore destroyed\n",
      "finished\n",
      "numActiveThreads = 0\n",
      "btShutDownExampleBrowser stopping threads\n",
      "Thread with taskId 0 exiting\n",
      "Thread TERMINATED\n",
      "destroy semaphore\n",
      "semaphore destroyed\n",
      "destroy main semaphore\n",
      "main semaphore destroyed\n",
      "startThreads creating 1 threads.\n",
      "starting thread 0\n",
      "started thread 0 \n",
      "argc=2\n",
      "argv[0] = --unused\n",
      "argv[1] = --start_demo_name=Physics Server\n",
      "ExampleBrowserThreadFunc started\n",
      "X11 functions dynamically loaded using dlopen/dlsym OK!\n",
      "X11 functions dynamically loaded using dlopen/dlsym OK!\n",
      "Creating context\n",
      "Created GL 3.3 context\n",
      "Direct GLX rendering context obtained\n",
      "Making context current\n",
      "GL_VENDOR=NVIDIA Corporation\n",
      "GL_RENDERER=NVIDIA GeForce GTX 1080 Ti/PCIe/SSE2\n",
      "GL_VERSION=3.3.0 NVIDIA 535.171.04\n",
      "GL_SHADING_LANGUAGE_VERSION=3.30 NVIDIA via Cg compiler\n",
      "pthread_getconcurrency()=0\n",
      "Version = 3.3.0 NVIDIA 535.171.04\n",
      "Vendor = NVIDIA Corporation\n",
      "Renderer = NVIDIA GeForce GTX 1080 Ti/PCIe/SSE2\n",
      "b3Printf: Selected demo: Physics Server\n",
      "startThreads creating 1 threads.\n",
      "starting thread 0\n",
      "started thread 0 \n",
      "MotionThreadFunc thread started\n",
      "ven = NVIDIA Corporation\n",
      "ven = NVIDIA Corporation\n",
      "b3Printf: b3Warning[examples/Importers/ImportURDFDemo/BulletUrdfImporter.cpp,126]:\n",
      "\n",
      "b3Printf: No inertial data for link, using mass=1, localinertiadiagonal = 1,1,1, identity local inertial frame\n",
      "b3Printf: b3Warning[examples/Importers/ImportURDFDemo/BulletUrdfImporter.cpp,126]:\n",
      "\n",
      "b3Printf: base\n"
     ]
    }
   ],
   "source": [
    "%%capture\n",
    "'''\n",
    "get data file name in json file and load mesh in pybullet\n",
    "then reset robot and object position\n",
    "'''\n",
    "\n",
    "file = os.path.join(parent_directory, \"object_index\", 'contact_plane_object.json')   # 此json檔可以自己改\n",
    "with open(file) as f: file_dir = json.load(f)\n",
    "file_dir = file_dir['test_dataset']     #只取json檔中的\"test\"\n",
    "file_dir = [f[:-5] for f in file_dir]\n",
    "test_file_dir = list(set(file_dir))\n",
    "\n",
    "env = SimulatedYCBEnv()\n",
    "env._load_index_objs(test_file_dir)      #597\n",
    "\n",
    "#ycb scene 中的 init 可以定義target_fixed, true代表target object不會自由落下 (第一次呼叫cabinet設定即可)\n",
    "state = env.cabinet(save=False, enforce_face_target=True)  "
   ]
  },
  {
   "cell_type": "code",
   "execution_count": 4,
   "id": "f43b6cd8",
   "metadata": {},
   "outputs": [],
   "source": [
    "'''\n",
    "single release: (只在num_object = 1有用) true為以自己設定的角度放在桌上; (多object也可用)false就是pack放在桌上\n",
    "if_stack: false代表旁邊有東西會擋住掉落下來的物體\n",
    "\n",
    "_randomly_place_objects_pack\n",
    "single_release/if_stack = t/t: 丟物體在桌上 沒遮擋\n",
    "single_release/if_stack = f/t: pack物體在桌上 沒遮擋\n",
    "single_release/if_stack = f/f: 丟物體在桌上 有遮擋\n",
    "single_release/if_stack = t/f: 丟物體在桌上 有遮擋\n",
    "\n",
    "'''\n",
    "# stage2 是最上面的貨價\n",
    "placing_stage = 2\n",
    "num_object = 1\n",
    "single_release =True\n",
    "if_stack = True\n",
    "draw_coordinate = False"
   ]
  },
  {
   "attachments": {},
   "cell_type": "markdown",
   "id": "6374dcc9",
   "metadata": {},
   "source": [
    "### check for target on the table"
   ]
  },
  {
   "cell_type": "code",
   "execution_count": 5,
   "id": "559251eb",
   "metadata": {},
   "outputs": [
    {
     "name": "stdout",
     "output_type": "stream",
     "text": [
      "single_release： True\n",
      "x_rot:  0.04606298986193291\n",
      "y_rot:  2.9684212539969295\n",
      "z_rot:  -0.388727574172576\n",
      ">>>> target name: 005_tomato_soup_can_1.0\n",
      "{3: '005_tomato_soup_can_1.0'}\n"
     ]
    }
   ],
   "source": [
    "target_on_table = 0\n",
    "first_time = True\n",
    "while(target_on_table < num_object):\n",
    "    state = env.cabinet(save=False, reset_free=True, num_object=num_object, if_stack=if_stack, single_release=single_release)\n",
    "    if(first_time):\n",
    "        first_time = False\n",
    "        placed_obj = {}\n",
    "        placed_idx = np.where(np.array(env.placed_objects))[0]\n",
    "        placed_name = np.array(env.obj_indexes)[np.where(np.array(env.placed_objects))]\n",
    "        for i in range(num_object):\n",
    "            placed_obj[placed_idx[i]] = placed_name[i]\n",
    "        print(placed_obj)\n",
    "    target_on_table = 0\n",
    "    for i, index in enumerate(placed_obj.keys()):\n",
    "        placed_name = placed_obj[index]\n",
    "        env.target_idx = index\n",
    "        target_pose_world = env._get_ef_pose(mat=True)@ env._get_target_relative_pose(option = 'ef')\n",
    "        # get the target pose z height\n",
    "        target_z_height = target_pose_world[2, 3]\n",
    "        if target_z_height > -0.7:\n",
    "            target_on_table += 1"
   ]
  },
  {
   "attachments": {},
   "cell_type": "markdown",
   "id": "8906d630",
   "metadata": {},
   "source": [
    "# Start multiview"
   ]
  },
  {
   "cell_type": "code",
   "execution_count": 6,
   "id": "df6a1267",
   "metadata": {},
   "outputs": [],
   "source": [
    "### 將open3d下的點雲轉到world座標\n",
    "world_frame_pose = np.array([[ 1.,    0.,    0.,   -0.05],\n",
    "                            [ 0.,    1.,    0.,    0.  ],\n",
    "                            [ 0.,    0.,    1.,   -0.65],\n",
    "                            [ 0.,    0.,    0.,    1.  ]])\n",
    "\n",
    "init_ef_mat = np.array([[-1.98785608e-01,  7.23231525e-01,  6.61377686e-01,  1.06898375e-01],\n",
    "                        [9.80042993e-01,  1.46612626e-01,  1.34240345e-01, -9.29623842e-02],\n",
    "                        [1.20530092e-04,  6.74863616e-01, -7.37942468e-01, -0.3],\n",
    "                        [0.00000000e+00,  0.00000000e+00,  0.00000000e+00,  1.00000000e+00]])\n",
    "\n",
    "left_view_ef_mat = np.array([[ 0.98757027,  0.02243495,  0.15556875,  0.45691898],\n",
    "                            [ 0.14573556, -0.501431,   -0.85283533,  0.36891946],\n",
    "                            [ 0.05887368,  0.86490672, -0.49846791, -0.3],\n",
    "                            [ 0.,          0.,          0.,          1.]])\n",
    "\n",
    "right_view_ef_mat = np.array([[ 0.98691477, -0.16087768,  0.010845,    0.46446365],\n",
    "                            [-0.10023915, -0.55945926,  0.82277424, -0.28816143],\n",
    "                            [-0.12629867, -0.81309514, -0.56826485, -0.3],\n",
    "                            [ 0.,          0.,          0.,          1.]])\n",
    "\n",
    "intrinsic_matrix = np.array([[320, 0, 320],\n",
    "                            [0, 320, 320],\n",
    "                            [0, 0, 1]])\n",
    "\n",
    "cam_offset = np.eye(4)\n",
    "# 先轉到pybullet座標後再往上移動0.13變相機座標\n",
    "cam_offset[:3, 3] = (np.array([0., 0.1186, -0.0191344123493]))\n",
    "# open3d 和 pybullet中的coordinate要對z旋轉180度才會一樣\n",
    "cam_offset[:3, :3] = np.array([[-1, 0, 0],\n",
    "                                [0, -1, 0],\n",
    "                                [0, 0, 1]])\n",
    "\n",
    "### 轉換關係\n",
    "origin_camera2world = cam_offset@ np.linalg.inv(init_ef_mat)@ world_frame_pose\n",
    "left_camera2world = cam_offset@ np.linalg.inv(left_view_ef_mat)@ world_frame_pose\n",
    "right_camera2world = cam_offset@ np.linalg.inv(right_view_ef_mat)@ world_frame_pose"
   ]
  },
  {
   "cell_type": "code",
   "execution_count": 7,
   "id": "f639c237",
   "metadata": {},
   "outputs": [
    {
     "name": "stdout",
     "output_type": "stream",
     "text": [
      "Debug:   RRTstar: Planner range detected to be 7.242362\n",
      "Info:    RRTstar: Started planning with 1 states. Seeking a solution better than 0.00000.\n",
      "Info:    RRTstar: Initial k-nearest value of 310\n",
      "Info:    RRTstar: Found an initial solution with a cost of 0.30 in 17 iterations (18 vertices in the graph)\n",
      "Interpolate Path length to 30Info:    RRTstar: Created 1016 new states. Checked 516636 rewire options. 1 goal states in tree. Final solution cost 0.296\n",
      "\n",
      "translation_diff =  3.0786970450373015e-05\n",
      "rotation_diff =  0.0\n",
      "origin checker: True\n",
      "{3: '005_tomato_soup_can_1.0'}\n",
      "3 005_tomato_soup_can_1.0\n"
     ]
    },
    {
     "data": {
      "image/png": "[encoded data removed]",
      "text/plain": [
       "<Figure size 800x800 with 3 Axes>"
      ]
     },
     "metadata": {},
     "output_type": "display_data"
    },
    {
     "name": "stdout",
     "output_type": "stream",
     "text": [
      "Debug:   RRTstar: Planner range detected to be 7.242362\n",
      "Info:    RRTstar: Started planning with 1 states. Seeking a solution better than 0.00000.\n",
      "Info:    RRTstar: Initial k-nearest value of 310\n",
      "Info:    RRTstar: Found an initial solution with a cost of 1.46 in 20 iterations (21 vertices in the graph)\n",
      "Interpolate Path length to 30Info:    RRTstar: Created 1058 new states. Checked 560211 rewire options. 1 goal states in tree. Final solution cost 1.463\n",
      "\n",
      "translation_diff =  1.2946390999179562e-08\n",
      "rotation_diff =  0.0\n",
      "left checker: True\n",
      "{3: '005_tomato_soup_can_1.0'}\n",
      "3 005_tomato_soup_can_1.0\n"
     ]
    },
    {
     "data": {
      "image/png": "[encoded data removed]",
      "text/plain": [
       "<Figure size 800x800 with 3 Axes>"
      ]
     },
     "metadata": {},
     "output_type": "display_data"
    },
    {
     "name": "stdout",
     "output_type": "stream",
     "text": [
      "Debug:   RRTstar: Planner range detected to be 7.242362\n",
      "Info:    RRTstar: Started planning with 1 states. Seeking a solution better than 0.00000.\n",
      "Info:    RRTstar: Initial k-nearest value of 310\n",
      "Info:    RRTstar: Found an initial solution with a cost of 1.63 in 17 iterations (18 vertices in the graph)\n",
      "Interpolate Path length to 30Info:    RRTstar: Created 1060 new states. Checked 562330 rewire options. 1 goal states in tree. Final solution cost 1.628\n",
      "\n",
      "translation_diff =  1.2403757090793842e-08\n",
      "rotation_diff =  0.0\n",
      "right checker: True\n",
      "{3: '005_tomato_soup_can_1.0'}\n",
      "3 005_tomato_soup_can_1.0\n"
     ]
    },
    {
     "data": {
      "image/png": "[encoded data removed]",
      "text/plain": [
       "<Figure size 800x800 with 3 Axes>"
      ]
     },
     "metadata": {},
     "output_type": "display_data"
    }
   ],
   "source": [
    "# state = env.cabinet(save=False, reset_free=True, num_object=num_object, \n",
    "# if_stack=if_stack, single_release=single_release, place_target_matrix=None)\n",
    "#Henry set execute the robot arm or not\n",
    "execute = False\n",
    "env._panda.reset()\n",
    "\n",
    "# 定義文件名和物體列表\n",
    "objects = [placed_name[0]]\n",
    "end_points = [init_ef_mat, left_view_ef_mat, right_view_ef_mat]\n",
    "views_dict = {\"origin\": 0, \"left\": 1, \"right\": 2}\n",
    "save_path = os.path.join(parent_directory, \"multiview_data\")\n",
    "\n",
    "# 透過for迴圈處理不同的視角\n",
    "for view_name, multiview_index in views_dict.items():\n",
    "    END_POINT = end_points[multiview_index]  # 根據索引從結構中選擇對應的終點矩陣\n",
    "\n",
    "    env._panda.reset()\n",
    "    if draw_coordinate:\n",
    "        env.draw_ef_coordinate(END_POINT, 5)\n",
    "    plan = expert_plan(pack_pose(END_POINT), world=True, visual=False)\n",
    "    execute_motion_plan(env, plan, execute=execute, gripper_set=\"open\", repeat=200)\n",
    "    checker = check_pose_difference(env._get_ef_pose(mat=True), END_POINT, tolerance=0.02)\n",
    "    print(f\"{view_name} checker: {checker}\")\n",
    "    save_observation_images(save_path, env, placed_obj, multiview_index)\n",
    "\n"
   ]
  },
  {
   "cell_type": "code",
   "execution_count": 8,
   "id": "033536e9",
   "metadata": {},
   "outputs": [
    {
     "name": "stdout",
     "output_type": "stream",
     "text": [
      "Processing 005_tomato_soup_can_1.0...\n",
      "1 1 1\n",
      "target_closet_depth: 0.38359999656677246\n",
      "最接近相機的目標物體索引是： 3\n",
      "已向服務端發送：005_tomato_soup_can_1.0\n"
     ]
    }
   ],
   "source": [
    "env._panda.reset()\n",
    "vis_pcd = False\n",
    "# 創建 2 維列表來存儲圖像、深度和遮罩數據\n",
    "rgb_list = []\n",
    "depth_list = []\n",
    "mask_list = []\n",
    "\n",
    "for i, index in enumerate(placed_obj.keys()):\n",
    "    placed_name = placed_obj[index]\n",
    "    print(f\"Processing {placed_name}...\")\n",
    "    # 清空列表來儲存下一個物體的數據rgbd\n",
    "    obj_rgb = []\n",
    "    obj_depth = []\n",
    "    obj_mask = []\n",
    "\n",
    "    for multiview_name, multiview_index in views_dict.items():\n",
    "        # load特定物體的rgbd\n",
    "        rgb, depth, mask = load_data(save_path, placed_name, multiview_index)\n",
    "        obj_rgb.append(rgb)\n",
    "        obj_depth.append(depth)\n",
    "        obj_mask.append(mask)\n",
    "\n",
    "    # 將特定物體的rgbd存入列表\n",
    "    rgb_list.append(obj_rgb)\n",
    "    depth_list.append(obj_depth)\n",
    "    mask_list.append(obj_mask)\n",
    "\n",
    "print(len(rgb_list), len(depth_list), len(mask_list))\n",
    "\n",
    "# check the target object 誰距離init camera最近就選誰\n",
    "min_depth = np.inf\n",
    "closest_target_index = None\n",
    "\n",
    "# 遍歷每個目標物體\n",
    "for i, index in enumerate(placed_obj.keys()):\n",
    "    # camera_transform = np.eye(4)因為用init camera的座標系去比較\n",
    "    target_full, target_segments = create_point_cloud_and_camera(rgb_list[i][0], depth_list[i][0], mask_list[i][0], K = intrinsic_matrix)  \n",
    "    origin = o3d.geometry.TriangleMesh.create_coordinate_frame(size=0.1, origin=[0, 0, 0])\n",
    "    # o3d.visualization.draw_geometries([target_segments, origin])\n",
    "    target_segments = np.array(target_segments.points)\n",
    "    # 使用目標物體對應的深度資訊中的最小值來計算目標深度\n",
    "    target_depth = np.min(target_segments[:, 2])\n",
    "    print(f\"target_closet_depth: {target_depth}\")\n",
    "    \n",
    "    # 如果這個目標物體比之前記錄的更接近相機，更新最小深度和索引\n",
    "    if target_depth < min_depth:\n",
    "        min_depth = target_depth\n",
    "        # target_object 和 closest_target_index 不同\n",
    "        closest_target_index = index\n",
    "        target_object = i\n",
    "\n",
    "print(\"最接近相機的目標物體索引是：\", closest_target_index)\n",
    "# tcp_client.\n",
    "target_placed_name = placed_obj[closest_target_index]\n",
    "tcp_utils.send_target_name('127.0.0.1', 11111, target_placed_name)\n",
    "time.sleep(3) #等待placing mode 的server開啟才可以傳下面的東西\n",
    "\n",
    "# Define intrinsic_matrix, placed_name, origin_camera2world, and other necessary variables.\n",
    "for multiview_index in range(3):\n",
    "    rgb, depth, mask = rgb_list[target_object][multiview_index], depth_list[target_object][multiview_index], mask_list[target_object][multiview_index]\n",
    "    \n",
    "    if multiview_index == 0:\n",
    "        camera_transform = np.linalg.inv(origin_camera2world)\n",
    "        color = None\n",
    "        pc_full_pcd_0, pc_segments_pcd_0 = create_point_cloud_and_camera(rgb, depth, mask, intrinsic_matrix, camera_transform, color)\n",
    "    elif multiview_index == 1:\n",
    "        camera_transform = np.linalg.inv(left_camera2world)\n",
    "        color = None\n",
    "        pc_full_pcd_1, pc_segments_pcd_1 = create_point_cloud_and_camera(rgb, depth, mask, intrinsic_matrix, camera_transform, color)\n",
    "    else:\n",
    "        camera_transform = np.linalg.inv(right_camera2world)\n",
    "        color = None\n",
    "        pc_full_pcd_2, pc_segments_pcd_2 = create_point_cloud_and_camera(rgb, depth, mask, intrinsic_matrix, camera_transform, color)\n",
    "    \n",
    "\n",
    "robot_base = o3d.geometry.TriangleMesh.create_coordinate_frame(size=0.2, origin=[0, 0, 0])\n",
    "camera0 = getCamera(np.linalg.inv(origin_camera2world), length=0.1, color=[1, 0, 0])\n",
    "camera1 = getCamera(np.linalg.inv(left_camera2world), length=0.1, color=[0, 1, 0])\n",
    "camera2 = getCamera(np.linalg.inv(right_camera2world), length=0.1, color=[0, 0, 1])\n",
    "\n",
    "camera = [*camera0, *camera1, *camera2]\n",
    "\n",
    "if vis_pcd:\n",
    "    o3d.visualization.draw_geometries_with_animation_callback([*camera, robot_base, pc_segments_pcd_0, pc_segments_pcd_1, pc_segments_pcd_2], rotate_view)\n",
    "    o3d.visualization.draw_geometries_with_animation_callback([*camera, robot_base, pc_full_pcd_0, pc_full_pcd_1, pc_full_pcd_2], rotate_view)"
   ]
  },
  {
   "cell_type": "code",
   "execution_count": 9,
   "id": "7fa560fd",
   "metadata": {},
   "outputs": [],
   "source": [
    "pc_segments_combine_pcd = get_combine_pcd(pc_segments_pcd_0, pc_segments_pcd_1, pc_segments_pcd_2)\n",
    "pc_full_combine_pcd = get_combine_pcd(pc_full_pcd_0, pc_full_pcd_1, pc_full_pcd_2)\n",
    "pc_segments_combine_pcd.transform(origin_camera2world)\n",
    "pc_full_combine_pcd.transform(origin_camera2world)\n",
    "\n",
    "# save the combine point cloud as npy\n",
    "pc_segments_combine = np.asarray(pc_segments_combine_pcd.points)\n",
    "pc_full_combine = np.asarray(pc_full_combine_pcd.points)\n",
    "\n",
    "np.save(os.path.join(parent_directory, 'multiview_data/pc_segments_combine.npy'), pc_segments_combine)\n",
    "np.save(os.path.join(parent_directory, 'multiview_data/pc_full_combine.npy'), pc_full_combine)\n",
    "# save the pc_full_combine_pcd.colors to npy\n",
    "pc_full_combine_colors = np.asarray(pc_full_combine_pcd.colors)\n",
    "np.save(os.path.join(parent_directory, 'multiview_data/pc_full_combine_colors.npy'), pc_full_combine_colors)"
   ]
  },
  {
   "cell_type": "code",
   "execution_count": 10,
   "id": "2647aef6",
   "metadata": {},
   "outputs": [
    {
     "name": "stdout",
     "output_type": "stream",
     "text": [
      "(514323, 3)\n",
      "(514323, 3)\n",
      "(14011, 3)\n"
     ]
    }
   ],
   "source": [
    "def augment_depth_realsense(depth, depth_adjustment=0, coefficient_scale=1):\n",
    "    # augment depth according to the empirical realsense paper\n",
    "    # https://ieeexplore.ieee.org/stamp/stamp.jsp?tp=&arnumber=8768489&tag=1\n",
    "\n",
    "    # print(\"ln250 augment depths\")\n",
    "    # print(np.max(depth))\n",
    "    # print(np.min(depth))\n",
    "    sigma = .001063*coefficient_scale + coefficient_scale*.0007278*(depth-depth_adjustment) \\\n",
    "            + coefficient_scale*.003949*(depth-depth_adjustment)**2\n",
    "    new_depth = np.random.normal(loc=depth, scale=sigma)\n",
    "\n",
    "    return new_depth\n",
    "# apply realsense noise\n",
    "# use augment_depth_realsense to augment the pc_combine_np\n",
    "pc_full_combine_noise = augment_depth_realsense(pc_full_combine, coefficient_scale=1)\n",
    "print(pc_full_combine.shape)\n",
    "print(pc_full_combine_noise.shape)\n",
    "\n",
    "pc_segments_combine_noise = augment_depth_realsense(pc_segments_combine, coefficient_scale=1)\n",
    "print(pc_segments_combine_noise.shape)\n",
    "\n",
    "# save the augmented point cloud as npy\n",
    "np.save('../multiview_data/pc_full_combine_noise.npy', pc_full_combine_noise)\n",
    "np.save('../multiview_data/pc_segments_combine_noise.npy', pc_segments_combine_noise)\n",
    "# use open3d to visualize the augmented point cloud\n",
    "pc_full_combine_noise_pcd = o3d.geometry.PointCloud()\n",
    "pc_full_combine_noise_pcd.points = o3d.utility.Vector3dVector(pc_full_combine_noise)\n",
    "pc_full_combine_noise_pcd.colors = o3d.utility.Vector3dVector(pc_full_combine_pcd.colors)\n",
    "pc_full_combine_noise_pcd.transform(np.linalg.inv(origin_camera2world))\n",
    "if vis_pcd:\n",
    "    o3d.visualization.draw_geometries([pc_full_combine_noise_pcd, robot_base, *camera])"
   ]
  },
  {
   "attachments": {},
   "cell_type": "markdown",
   "id": "d9634a4b",
   "metadata": {},
   "source": [
    "## use contact graspnet (ros service client)"
   ]
  },
  {
   "cell_type": "code",
   "execution_count": 11,
   "id": "470f4498",
   "metadata": {},
   "outputs": [
    {
     "ename": "ModuleNotFoundError",
     "evalue": "No module named 'rospy'",
     "output_type": "error",
     "traceback": [
      "\u001b[0;31m---------------------------------------------------------------------------\u001b[0m",
      "\u001b[0;31mModuleNotFoundError\u001b[0m                       Traceback (most recent call last)",
      "Cell \u001b[0;32mIn[11], line 1\u001b[0m\n\u001b[0;32m----> 1\u001b[0m \u001b[38;5;28;01mimport\u001b[39;00m \u001b[38;5;21;01mrospy\u001b[39;00m\n\u001b[1;32m      2\u001b[0m \u001b[38;5;28;01mfrom\u001b[39;00m \u001b[38;5;21;01mpybullet_ros\u001b[39;00m\u001b[38;5;21;01m.\u001b[39;00m\u001b[38;5;21;01msrv\u001b[39;00m \u001b[38;5;28;01mimport\u001b[39;00m GraspGroup, GraspGroupRequest\n\u001b[1;32m      3\u001b[0m \u001b[38;5;28;01mfrom\u001b[39;00m \u001b[38;5;21;01msensor_msgs\u001b[39;00m\u001b[38;5;21;01m.\u001b[39;00m\u001b[38;5;21;01mpoint_cloud2\u001b[39;00m \u001b[38;5;28;01mimport\u001b[39;00m create_cloud_xyz32\n",
      "\u001b[0;31mModuleNotFoundError\u001b[0m: No module named 'rospy'"
     ]
    },
    {
     "ename": "",
     "evalue": "",
     "output_type": "error",
     "traceback": [
      "\u001b[1;31mThe Kernel crashed while executing code in the current cell or a previous cell. \n",
      "\u001b[1;31mPlease review the code in the cell(s) to identify a possible cause of the failure. \n",
      "\u001b[1;31mClick <a href='https://aka.ms/vscodeJupyterKernelCrash'>here</a> for more info. \n",
      "\u001b[1;31mView Jupyter <a href='command:jupyter.viewOutput'>log</a> for further details."
     ]
    }
   ],
   "source": [
    "import rospy\n",
    "from pybullet_ros.srv import GraspGroup, GraspGroupRequest\n",
    "from sensor_msgs.point_cloud2 import create_cloud_xyz32\n",
    "\n",
    "contact_client = rospy.ServiceProxy('contact_graspnet/get_grasp_result', GraspGroup)\n",
    "rospy.wait_for_service('contact_graspnet/get_grasp_result')\n",
    "\n",
    "# Create a service request(depth image part)\n",
    "contact_request = GraspGroupRequest()\n",
    "header = rospy.Header()\n",
    "header.stamp = rospy.Time.now()\n",
    "header.frame_id = 'base_link'  # Replace with your desired frame ID\n",
    "contact_request.pc_full = create_cloud_xyz32(header, pc_full_combine)\n",
    "contact_request.pc_target = create_cloud_xyz32(header, pc_segments_combine)\n",
    "contact_request.mode = 1\n",
    "grasp_poses = contact_client(contact_request).grasp_poses\n",
    "print(grasp_poses)"
   ]
  },
  {
   "cell_type": "code",
   "execution_count": null,
   "id": "86237c2d",
   "metadata": {},
   "outputs": [
    {
     "name": "stdout",
     "output_type": "stream",
     "text": [
      "/home/user/contact_graspnet_ws/src/contact_graspnet_ros/example_henry\n",
      "/home/user/contact_graspnet_ws/src/contact_graspnet_ros\n",
      "2024-04-19 13:46:30.842431: I tensorflow/stream_executor/platform/default/dso_loader.cc:49] Successfully opened dynamic library libcudart.so.11.0\n",
      "2024-04-19 13:46:31.584654: I tensorflow/compiler/jit/xla_cpu_device.cc:41] Not creating XLA devices, tf_xla_enable_xla_devices not set\n",
      "2024-04-19 13:46:31.585142: I tensorflow/stream_executor/platform/default/dso_loader.cc:49] Successfully opened dynamic library libcuda.so.1\n",
      "2024-04-19 13:46:31.607222: I tensorflow/stream_executor/cuda/cuda_gpu_executor.cc:941] successful NUMA node read from SysFS had negative value (-1), but there must be at least one NUMA node, so returning NUMA node zero\n",
      "2024-04-19 13:46:31.607306: I tensorflow/core/common_runtime/gpu/gpu_device.cc:1720] Found device 0 with properties: \n",
      "pciBusID: 0000:01:00.0 name: NVIDIA GeForce GTX 1080 Ti computeCapability: 6.1\n",
      "coreClock: 1.582GHz coreCount: 28 deviceMemorySize: 10.90GiB deviceMemoryBandwidth: 451.17GiB/s\n",
      "2024-04-19 13:46:31.607321: I tensorflow/stream_executor/platform/default/dso_loader.cc:49] Successfully opened dynamic library libcudart.so.11.0\n",
      "2024-04-19 13:46:31.608551: I tensorflow/stream_executor/platform/default/dso_loader.cc:49] Successfully opened dynamic library libcublas.so.11\n",
      "2024-04-19 13:46:31.608593: I tensorflow/stream_executor/platform/default/dso_loader.cc:49] Successfully opened dynamic library libcublasLt.so.11\n",
      "2024-04-19 13:46:31.609279: I tensorflow/stream_executor/platform/default/dso_loader.cc:49] Successfully opened dynamic library libcufft.so.10\n",
      "2024-04-19 13:46:31.609434: I tensorflow/stream_executor/platform/default/dso_loader.cc:49] Successfully opened dynamic library libcurand.so.10\n",
      "2024-04-19 13:46:31.610775: I tensorflow/stream_executor/platform/default/dso_loader.cc:49] Successfully opened dynamic library libcusolver.so.10\n",
      "2024-04-19 13:46:31.611084: I tensorflow/stream_executor/platform/default/dso_loader.cc:49] Successfully opened dynamic library libcusparse.so.11\n",
      "2024-04-19 13:46:31.611162: I tensorflow/stream_executor/platform/default/dso_loader.cc:49] Successfully opened dynamic library libcudnn.so.8\n",
      "2024-04-19 13:46:31.611213: I tensorflow/stream_executor/cuda/cuda_gpu_executor.cc:941] successful NUMA node read from SysFS had negative value (-1), but there must be at least one NUMA node, so returning NUMA node zero\n",
      "2024-04-19 13:46:31.611297: I tensorflow/stream_executor/cuda/cuda_gpu_executor.cc:941] successful NUMA node read from SysFS had negative value (-1), but there must be at least one NUMA node, so returning NUMA node zero\n",
      "2024-04-19 13:46:31.611345: I tensorflow/core/common_runtime/gpu/gpu_device.cc:1862] Adding visible gpu devices: 0\n",
      "QStandardPaths: XDG_RUNTIME_DIR not set, defaulting to '/tmp/runtime-root'\n",
      "{'DATA': {'gripper_width': 0.08, 'input_normals': False, 'use_uniform_quaternions': False, 'train_on_scenes': True, 'labels': {'to_gpu': False, 'bin_weights': [0.16652107, 0.21488856, 0.37031708, 0.55618503, 0.75124664, 0.93943357, 1.07824539, 1.19423112, 1.55731375, 3.17161779], 'contact_gather': 'knn', 'filter_z': True, 'k': 1, 'max_radius': 0.005, 'min_unique_pos_contacts': 1, 'num_neg_contacts': 0, 'num_pos_contacts': 10000, 'offset_bins': [0, 0.00794435329, 0.0158887021, 0.0238330509, 0.0317773996, 0.0397217484, 0.0476660972, 0.055610446, 0.0635547948, 0.0714991435, 0.08], 'z_val': -0.1}, 'raw_num_points': 20000, 'ndataset_points': 20000, 'num_point': 2048, 'sigma': 0.001, 'clip': 0.005, 'use_farthest_point': False, 'train_and_test': False, 'num_test_scenes': 1000, 'intrinsics': 'realsense', 'classes': None}, 'LOSS': {'min_geom_loss_divisor': 1.0, 'max_geom_loss_divisor': 100.0, 'offset_loss_type': 'sigmoid_cross_entropy', 'too_small_offset_pred_bin_factor': 0, 'topk_confidence': 512}, 'MODEL': {'bin_offsets': True, 'contact_distance_offset': True, 'dir_vec_length_offset': False, 'grasp_conf_head': {'conv1d': 1, 'dropout_keep': 0.5}, 'grasp_dir_head': {'conv1d': 3, 'dropout_keep': 0.7}, 'joint_head': {'conv1d': 4, 'dropout_keep': 0.7}, 'joint_heads': False, 'larger_model': False, 'asymmetric_model': True, 'model': 'contact_graspnet', 'pointnet_fp_modules': [{'mlp': [256, 256]}, {'mlp': [256, 128]}, {'mlp': [128, 128, 128]}], 'pointnet_sa_module': {'group_all': True, 'mlp': [256, 512, 1024]}, 'pointnet_sa_modules_msg': [{'mlp_list': [[32, 32, 64], [64, 64, 128], [64, 96, 128]], 'npoint': 2048, 'nsample_list': [32, 64, 128], 'radius_list': [0.02, 0.04, 0.08]}, {'mlp_list': [[64, 64, 128], [128, 128, 256], [128, 128, 256]], 'npoint': 512, 'nsample_list': [64, 64, 128], 'radius_list': [0.04, 0.08, 0.16]}, {'mlp_list': [[64, 64, 128], [128, 128, 256], [128, 128, 256]], 'npoint': 128, 'nsample_list': [64, 64, 128], 'radius_list': [0.08, 0.16, 0.32]}], 'pred_contact_approach': True, 'pred_contact_base': True, 'pred_contact_offset': True, 'pred_contact_success': True, 'pred_grasps_adds': False, 'pred_grasps_adds_gt2pred': False}, 'OPTIMIZER': {'adds_gt2pred_loss_weight': 1, 'adds_loss_weight': 10, 'approach_cosine_loss_weight': 1, 'batch_size': 1, 'bn_decay_clip': 0.99, 'bn_decay_decay_rate': 0.5, 'bn_decay_decay_step': 200000, 'bn_init_decay': 0.5, 'decay_rate': 0.7, 'decay_step': 200000, 'dir_cosine_loss_weight': 1, 'learning_rate': 0.001, 'max_epoch': 16, 'momentum': 0.9, 'offset_loss_weight': 1, 'optimizer': 'adam', 'score_ce_loss_weight': 1}, 'TEST': {'center_to_tip': 0.0, 'allow_zero_margin': 0, 'bin_vals': 'max', 'extra_opening': 0.005, 'first_thres': 0.23, 'second_thres': 0.18, 'max_farthest_points': 150, 'num_samples': 200, 'save': False, 'scale_fac': [1.25, 1.0, 0.75, 0.5], 'scales': False, 'with_replacement': False, 'filter_thres': 0.0001}}\n",
      "pid: 575912\n",
      "/home/user/contact_graspnet_ws/src/contact_graspnet_ros/pointnet2/tf_ops/sampling\n",
      "--- Get model\n",
      "/usr/local/lib/python3.8/dist-packages/tensorflow/python/keras/legacy_tf_layers/normalization.py:307: UserWarning: `tf.layers.batch_normalization` is deprecated and will be removed in a future version. Please use `tf.keras.layers.BatchNormalization` instead. In particular, `tf.control_dependencies(tf.GraphKeys.UPDATE_OPS)` should not be used (consult the `tf.keras.layers.BatchNormalization` documentation).\n",
      "  warnings.warn(\n",
      "/usr/local/lib/python3.8/dist-packages/tensorflow/python/keras/engine/base_layer_v1.py:1719: UserWarning: `layer.apply` is deprecated and will be removed in a future version. Please use `layer.__call__` method instead.\n",
      "  warnings.warn('`layer.apply` is deprecated and '\n",
      "WARNING:tensorflow:From /usr/local/lib/python3.8/dist-packages/tensorflow/python/util/deprecation.py:605: calling conv1d (from tensorflow.python.ops.nn_ops) with data_format=NHWC is deprecated and will be removed in a future version.\n",
      "Instructions for updating:\n",
      "`NHWC` for data_format is deprecated, use `NWC` instead\n",
      "WARNING:tensorflow:From /usr/local/lib/python3.8/dist-packages/tensorflow/python/util/dispatch.py:201: calling dropout (from tensorflow.python.ops.nn_ops) with keep_prob is deprecated and will be removed in a future version.\n",
      "Instructions for updating:\n",
      "Please use `rate` instead of `keep_prob`. Rate should be set to `rate = 1 - keep_prob`.\n",
      "2024-04-19 13:46:34.977889: I tensorflow/compiler/jit/xla_gpu_device.cc:99] Not creating XLA devices, tf_xla_enable_xla_devices not set\n",
      "2024-04-19 13:46:34.978016: I tensorflow/stream_executor/cuda/cuda_gpu_executor.cc:941] successful NUMA node read from SysFS had negative value (-1), but there must be at least one NUMA node, so returning NUMA node zero\n",
      "2024-04-19 13:46:34.978101: I tensorflow/core/common_runtime/gpu/gpu_device.cc:1720] Found device 0 with properties: \n",
      "pciBusID: 0000:01:00.0 name: NVIDIA GeForce GTX 1080 Ti computeCapability: 6.1\n",
      "coreClock: 1.582GHz coreCount: 28 deviceMemorySize: 10.90GiB deviceMemoryBandwidth: 451.17GiB/s\n",
      "2024-04-19 13:46:34.978121: I tensorflow/stream_executor/platform/default/dso_loader.cc:49] Successfully opened dynamic library libcudart.so.11.0\n",
      "2024-04-19 13:46:34.978137: I tensorflow/stream_executor/platform/default/dso_loader.cc:49] Successfully opened dynamic library libcublas.so.11\n",
      "2024-04-19 13:46:34.978143: I tensorflow/stream_executor/platform/default/dso_loader.cc:49] Successfully opened dynamic library libcublasLt.so.11\n",
      "2024-04-19 13:46:34.978149: I tensorflow/stream_executor/platform/default/dso_loader.cc:49] Successfully opened dynamic library libcufft.so.10\n",
      "2024-04-19 13:46:34.978155: I tensorflow/stream_executor/platform/default/dso_loader.cc:49] Successfully opened dynamic library libcurand.so.10\n",
      "2024-04-19 13:46:34.978160: I tensorflow/stream_executor/platform/default/dso_loader.cc:49] Successfully opened dynamic library libcusolver.so.10\n",
      "2024-04-19 13:46:34.978166: I tensorflow/stream_executor/platform/default/dso_loader.cc:49] Successfully opened dynamic library libcusparse.so.11\n",
      "2024-04-19 13:46:34.978172: I tensorflow/stream_executor/platform/default/dso_loader.cc:49] Successfully opened dynamic library libcudnn.so.8\n",
      "2024-04-19 13:46:34.978203: I tensorflow/stream_executor/cuda/cuda_gpu_executor.cc:941] successful NUMA node read from SysFS had negative value (-1), but there must be at least one NUMA node, so returning NUMA node zero\n",
      "2024-04-19 13:46:34.978262: I tensorflow/stream_executor/cuda/cuda_gpu_executor.cc:941] successful NUMA node read from SysFS had negative value (-1), but there must be at least one NUMA node, so returning NUMA node zero\n",
      "2024-04-19 13:46:34.978304: I tensorflow/core/common_runtime/gpu/gpu_device.cc:1862] Adding visible gpu devices: 0\n",
      "2024-04-19 13:46:34.978319: I tensorflow/stream_executor/platform/default/dso_loader.cc:49] Successfully opened dynamic library libcudart.so.11.0\n",
      "2024-04-19 13:46:35.309340: I tensorflow/core/common_runtime/gpu/gpu_device.cc:1261] Device interconnect StreamExecutor with strength 1 edge matrix:\n",
      "2024-04-19 13:46:35.309369: I tensorflow/core/common_runtime/gpu/gpu_device.cc:1267]      0 \n",
      "2024-04-19 13:46:35.309374: I tensorflow/core/common_runtime/gpu/gpu_device.cc:1280] 0:   N \n",
      "2024-04-19 13:46:35.309501: I tensorflow/stream_executor/cuda/cuda_gpu_executor.cc:941] successful NUMA node read from SysFS had negative value (-1), but there must be at least one NUMA node, so returning NUMA node zero\n",
      "2024-04-19 13:46:35.309595: I tensorflow/stream_executor/cuda/cuda_gpu_executor.cc:941] successful NUMA node read from SysFS had negative value (-1), but there must be at least one NUMA node, so returning NUMA node zero\n",
      "2024-04-19 13:46:35.309652: I tensorflow/stream_executor/cuda/cuda_gpu_executor.cc:941] successful NUMA node read from SysFS had negative value (-1), but there must be at least one NUMA node, so returning NUMA node zero\n",
      "2024-04-19 13:46:35.309709: I tensorflow/core/common_runtime/gpu/gpu_device.cc:1406] Created TensorFlow device (/job:localhost/replica:0/task:0/device:GPU:0 with 9141 MB memory) -> physical GPU (device: 0, name: NVIDIA GeForce GTX 1080 Ti, pci bus id: 0000:01:00.0, compute capability: 6.1)\n",
      "('loading ', 'checkpoints/scene_test_2048_bs3_hor_sigma_001/model.ckpt-54054')\n",
      "2024-04-19 13:46:35.332838: I tensorflow/compiler/mlir/mlir_graph_optimization_pass.cc:196] None of the MLIR optimization passes are enabled (registered 0 passes)\n",
      "2024-04-19 13:46:35.433204: I tensorflow/core/platform/profile_utils/cpu_utils.cc:112] CPU Frequency: 2112000000 Hz\n",
      "dddddddd {1: array([[ 0.01315125, -0.0672175 ,  0.46759999],\n",
      "       [ 0.0146375 , -0.0673325 ,  0.4684    ],\n",
      "       [ 0.00435375, -0.06530625,  0.46439999],\n",
      "       ...,\n",
      "       [-0.0019338 , -0.05931948,  0.46288051],\n",
      "       [-0.00313883, -0.05875867,  0.46267187],\n",
      "       [-0.00557984, -0.05835311,  0.4632933 ]])}\n",
      "(13755, 3)\n",
      "Generating Grasps...\n",
      "Extracted Region Cube Size:  0.3\n",
      "2024-04-19 13:46:35.962295: I tensorflow/stream_executor/platform/default/dso_loader.cc:49] Successfully opened dynamic library libcudnn.so.8\n",
      "2024-04-19 13:46:36.525677: I tensorflow/stream_executor/platform/default/dso_loader.cc:49] Successfully opened dynamic library libcublas.so.11\n",
      "2024-04-19 13:46:36.665580: I tensorflow/stream_executor/platform/default/dso_loader.cc:49] Successfully opened dynamic library libcublasLt.so.11\n",
      "Generated 65 grasps for object 1\n",
      "keys dict_keys([1])\n",
      "1\n",
      "(65, 4, 4)\n",
      "1111111111 <class 'dict'>\n",
      "<class 'dict'>\n",
      "Visualizing...takes time\n",
      "Traceback (most recent call last):\n",
      "  File \"contact_graspnet/inference_multiview.py\", line 141, in <module>\n",
      "    print(FLAGS.local_regions, filter_grasps=FLAGS.filter_grasps)\n",
      "TypeError: 'filter_grasps' is an invalid keyword argument for print()\n"
     ]
    }
   ],
   "source": [
    "# execute python3 contact_graspnet/inference_multiview.py --filter_grasps --local_regions\n",
    "print(os.getcwd())\n",
    "os.chdir(\"..\")  # 移動到上一級目錄\n",
    "print(os.getcwd())\n",
    "!python3 contact_graspnet/inference_multiview.py --filter_grasps --local_regions\n",
    "# 移動到下一級目錄\n",
    "os.chdir(\"example_henry\")  # 移動到上一級目錄"
   ]
  },
  {
   "attachments": {},
   "cell_type": "markdown",
   "id": "0a864342",
   "metadata": {},
   "source": [
    "# GET 6D POSE\n",
    "obb get 6d pose \n",
    "or \n",
    "use ground truth"
   ]
  },
  {
   "cell_type": "code",
   "execution_count": null,
   "id": "180cb837",
   "metadata": {},
   "outputs": [
    {
     "name": "stdout",
     "output_type": "stream",
     "text": [
      "['/home/user/contact_graspnet_ws/src/contact_graspnet_ros/example_henry', '/usr/lib/python38.zip', '/usr/lib/python3.8', '/usr/lib/python3.8/lib-dynload', '', '/home/user/.local/lib/python3.8/site-packages', '/usr/local/lib/python3.8/dist-packages', '/usr/lib/python3/dist-packages', '../']\n",
      "005_tomato_soup_can_1.0\n",
      "rotate 180 degree around z axis of the target pose\n",
      "result_z_rotation_angle 180\n",
      "[[ 0.50906861  0.20516006  0.83591779  0.52574225]\n",
      " [-0.78443087 -0.28916305  0.54868295 -0.02939598]\n",
      " [ 0.35428435 -0.93503692  0.01373006 -0.56927124]\n",
      " [ 0.          0.          0.          1.        ]]\n"
     ]
    }
   ],
   "source": [
    "from utils.my_utils import PointCloudPoseEstimator\n",
    "import numpy as np\n",
    "gt = True\n",
    "vis = False\n",
    "\n",
    "pc_segments_path = '../multiview_data/pc_segments_combine.npy'\n",
    "pc_segments_noise_path = '../multiview_data/pc_segments_combine_noise.npy'\n",
    "poseEstimate = PointCloudPoseEstimator(pc_segments_path, pc_segments_noise_path, init_ef_mat, cam_offset)\n",
    "result_z_rotation_angle = 0\n",
    "env.target_idx = closest_target_index\n",
    "if gt == True:\n",
    "        # ground truth\n",
    "        target_pose_world = env._get_ef_pose(mat=True)@ env._get_target_relative_pose(option = 'ef')\n",
    "        # rotate the target pose if the x of the target pose inner product with the x of the ef pose is negative\n",
    "        print(placed_name)\n",
    "        if \"025_mug_1.0\" in placed_name or '021_bleach_cleanser_1.0' in placed_name:\n",
    "                # rotate 90 degree around z axis of the target pose\n",
    "                target_pose_world[:3, :3] = target_pose_world[:3, :3]@ np.array([[0, -1, 0],\n",
    "                                                                                [1, 0, 0],\n",
    "                                                                                [0, 0, 1]])\n",
    "                print(\"rotate 90 degree around z axis of the target pose\")\n",
    "                result_z_rotation_angle += 90\n",
    "        if np.dot(target_pose_world[:3, 0], env._get_ef_pose(mat=True)[:3, 2]) > 0:\n",
    "                # rotate 180 degree around z axis of the target pose\n",
    "                target_pose_world[:3, :3] = target_pose_world[:3, :3]@ np.array([[-1, 0, 0],\n",
    "                                                                                [0, -1, 0],\n",
    "                                                                                [0, 0, 1]])\n",
    "                print(\"rotate 180 degree around z axis of the target pose\")\n",
    "                result_z_rotation_angle += 180\n",
    "        print(\"result_z_rotation_angle\", result_z_rotation_angle)\n",
    "\n",
    "\n",
    "else:\n",
    "        target_pose_world = poseEstimate.get_6d_pose()\n",
    "\n",
    "print(target_pose_world)\n",
    "if vis:\n",
    "        # can see the target pose, cabinet pose and ef pose in pybullet\n",
    "        env.draw_ef_coordinate(env._get_ef_pose(mat=True), 5)\n",
    "        env.draw_ef_coordinate(env._get_target_urdf_pose(option = 'cabinet_world', mat = True), 5)\n",
    "        env.draw_ef_coordinate(target_pose_world, 5)\n"
   ]
  },
  {
   "cell_type": "code",
   "execution_count": null,
   "id": "3e065b10",
   "metadata": {},
   "outputs": [],
   "source": [
    "# env.draw_ef_coordinate(env._get_ef_pose(mat=True)@ env._get_target_relative_pose(option = 'ef'), 5)"
   ]
  },
  {
   "attachments": {},
   "cell_type": "markdown",
   "id": "61acf630",
   "metadata": {},
   "source": [
    "# 轉換所有的grasp pose\n",
    "- 找到每個grasp pose和target object轉換矩陣, 並將其轉換到place pose的位置\n",
    "- extract會產生碰撞的grasp pose"
   ]
  },
  {
   "cell_type": "code",
   "execution_count": null,
   "id": "6f9bf942",
   "metadata": {},
   "outputs": [
    {
     "name": "stdout",
     "output_type": "stream",
     "text": [
      "(65, 4, 4)\n",
      "Number of init grasp:  65\n"
     ]
    }
   ],
   "source": [
    "pred_grasps_cam = np.load(os.path.join(parent_directory, 'results/pred_grasps_cam.npy'), allow_pickle=True)\n",
    "scores = np.load(os.path.join(parent_directory, 'results/scores.npy'), allow_pickle=True)\n",
    "print(pred_grasps_cam.shape)\n",
    "new_pred_grasps_cam = init_ef_mat@ np.linalg.inv(cam_offset)@ pred_grasps_cam\n",
    "print(\"Number of init grasp: \", new_pred_grasps_cam.shape[0])"
   ]
  },
  {
   "attachments": {},
   "cell_type": "markdown",
   "id": "3c7f58f9",
   "metadata": {},
   "source": [
    "### 得到place pose"
   ]
  },
  {
   "cell_type": "code",
   "execution_count": null,
   "id": "689d1e41",
   "metadata": {},
   "outputs": [
    {
     "name": "stdout",
     "output_type": "stream",
     "text": [
      "target_pose_world = \n",
      "[[ 0.50906861  0.20516006  0.83591779  0.52574225]\n",
      " [-0.78443087 -0.28916305  0.54868295 -0.02939598]\n",
      " [ 0.35428435 -0.93503692  0.01373006 -0.56927124]\n",
      " [ 0.          0.          0.          1.        ]]\n"
     ]
    }
   ],
   "source": [
    "# 將所有pose轉換到place pose\n",
    "print('target_pose_world = \\n{}'.format(target_pose_world))\n",
    "cabinet_pose_world = env._get_target_urdf_pose(option = 'cabinet_world', mat = True)\n",
    "cabinet_pose_world_stage1 = cabinet_pose_world.copy()\n",
    "cabinet_pose_world_stage2 = cabinet_pose_world.copy()\n",
    "\n",
    "# stage1 \n",
    "cabinet_pose_world_stage1[0, 3] += 0.\n",
    "cabinet_pose_world_stage1[1, 3] += -0.3\n",
    "cabinet_pose_world_stage1[2, 3] += 0.2\n",
    "\n",
    "# stage2\n",
    "cabinet_pose_world_stage2[0, 3] += 0.\n",
    "cabinet_pose_world_stage2[1, 3] += -0.3\n",
    "cabinet_pose_world_stage2[2, 3] += 0.5\n",
    "\n",
    "# chose the cabinet pose\n",
    "if placing_stage == 1:\n",
    "    cabinet_pose_world = cabinet_pose_world_stage1\n",
    "elif placing_stage == 2:\n",
    "    cabinet_pose_world = cabinet_pose_world_stage2\n",
    "env.draw_ef_coordinate(cabinet_pose_world, 5)"
   ]
  },
  {
   "attachments": {},
   "cell_type": "markdown",
   "id": "5d79480a",
   "metadata": {},
   "source": [
    "### 微調place pose"
   ]
  },
  {
   "cell_type": "code",
   "execution_count": null,
   "id": "7fa2e801",
   "metadata": {},
   "outputs": [
    {
     "name": "stdout",
     "output_type": "stream",
     "text": [
      "x = 0.11400542948129694(m)\n",
      "y = 0.07752736516113745(m)\n",
      "z = 0.08380045473216566(m)\n",
      "z_translation = 0.05700271474064847\n",
      "Number of place grasp:  (65, 4, 4)\n",
      "已發送checker到服務端。\n"
     ]
    }
   ],
   "source": [
    "#上方OBB得到值\n",
    "# z_translation = poseEstimate.get_normal_translation()-0.015\n",
    "z_translation = poseEstimate.get_normal_translation()\n",
    "y_translation = -0.\n",
    "x_translation = 0.\n",
    "print('z_translation = {}'.format(z_translation))\n",
    "place_pose_world = cabinet_pose_world.copy()\n",
    "place_pose_world[:3, 3] += np.array([x_translation, y_translation, z_translation])\n",
    "env.draw_ef_coordinate(place_pose_world, 5)\n",
    "new_pred_grasps_cam_place = np.zeros_like(new_pred_grasps_cam)\n",
    "\n",
    "for i in range(new_pred_grasps_cam.shape[0]):\n",
    "    relative_grasp_transform = np.linalg.inv(target_pose_world)@ new_pred_grasps_cam[i]\n",
    "    new_pred_grasps_cam_place[i] = place_pose_world@ relative_grasp_transform\n",
    "    # every grasp pose traslate z -0.03\n",
    "    new_pred_grasps_cam_place[i][2, 2] -= 0.03\n",
    "\n",
    "print(\"Number of place grasp: \", new_pred_grasps_cam_place.shape)\n",
    "\n",
    "# tcp傳送\n",
    "np.save('../results/new_pred_grasps_cam_place.npy', new_pred_grasps_cam_place)\n",
    "time.sleep(3) #等待placing mode 的server開啟才可以傳下面的東西\n",
    "tcp_utils.send_checker('127.0.0.1', 22222) \n",
    "time.sleep(3) #等待placing mode 的server開啟才可以傳下面的東西"
   ]
  },
  {
   "attachments": {},
   "cell_type": "markdown",
   "id": "48f13b21",
   "metadata": {},
   "source": [
    "### 擺放target object到place pose"
   ]
  },
  {
   "cell_type": "code",
   "execution_count": null,
   "id": "b2230d13",
   "metadata": {},
   "outputs": [],
   "source": [
    "# tcp server\n",
    "final_place_target_matrix = place_pose_world@ get_rotation_matrix_z_4x4(-result_z_rotation_angle/90)\n",
    "tcp_utils.send_matrix('127.0.0.1', 33333, final_place_target_matrix)\n",
    "time.sleep(1)\n",
    "tcp_utils.send_matrix('127.0.0.1', 55557, place_pose_world)\n",
    "time.sleep(1)\n",
    "tcp_utils.send_matrix('127.0.0.1', 56565, target_pose_world)"
   ]
  },
  {
   "attachments": {},
   "cell_type": "markdown",
   "id": "5d4f5caf",
   "metadata": {},
   "source": [
    "# 測試夾取及擺放是否能成功\n",
    "的到world ef的place pose和grasp pose"
   ]
  },
  {
   "cell_type": "code",
   "execution_count": null,
   "id": "d1b234a4",
   "metadata": {},
   "outputs": [],
   "source": [
    "def move_gripper_smoothly(env, p, start_opening, target_opening, steps=8000):\n",
    "    \"\"\"\n",
    "    逐步移動夾爪從一個開合程度到另一個開合程度。\n",
    "\n",
    "    參數:\n",
    "        env: 包含夾爪控制函數的環境物件。\n",
    "        p: 包含步進模擬函數的物理模擬物件。\n",
    "        start_opening (float): 初始夾爪開合程度，範圍在0到0.085之間。\n",
    "        target_opening (float): 目標夾爪開合程度，範圍在0到0.085之間。\n",
    "        steps (int): 從初始開合程度到目標開合程度的步數。\n",
    "        # 使用範例\n",
    "        # 假設您已經有了env物件和p物件，以及想要設定的開始和目標開合程度\n",
    "        move_gripper_smoothly(env, p, 0.085, 0.0)  # close\n",
    "        move_gripper_smoothly(env, p, 0.0, 0.085)  # open\n",
    "    \"\"\"\n",
    "    x = start_opening\n",
    "    delta = (target_opening - start_opening) / steps  # 計算每一步的變化量\n",
    "def execute_motion_and_check_pose(env, END_POINT, tolerance=0.02, gripper_state=\"open\", repeat=150, visual_time=None):\n",
    "    \"\"\"\n",
    "    執行動作計畫並檢查最後位姿是否正確。不正確則停5秒\n",
    "    \"\"\"\n",
    "    if draw_coordinate:\n",
    "        env.draw_ef_coordinate(END_POINT, visual_time)\n",
    "    plan = expert_plan(pack_pose(END_POINT), world=True, visual=False)\n",
    "    _ = execute_motion_plan(env, plan, execute=execute, gripper_set=gripper_state, repeat=repeat)\n",
    "    checker = check_pose_difference(env._get_ef_pose(mat=True), END_POINT, tolerance)\n",
    "    if not checker:\n",
    "        print(\"位姿不正確，請檢查位姿\")\n",
    "        time.sleep(5)\n",
    "    print(\"=====================================================\")\n",
    "\n",
    "def adjust_pose_with_bias(pose, bias, option=\"ef\"):\n",
    "    if option == \"ef\":\n",
    "        return pose@transZ(bias)\n",
    "    elif option == \"world\":\n",
    "        return transZ(bias)@pose\n",
    "\n",
    "    for i in range(steps):\n",
    "        env._panda.move_gripper(x)\n",
    "        x += delta  # 更新夾爪的開合程度\n",
    "        p.stepSimulation()  # 進行一次物理模擬步進"
   ]
  },
  {
   "attachments": {},
   "cell_type": "markdown",
   "id": "2041c9dc",
   "metadata": {},
   "source": [
    "## tcp傳入final_place_grasp_pose"
   ]
  },
  {
   "cell_type": "code",
   "execution_count": null,
   "id": "78c64014",
   "metadata": {},
   "outputs": [
    {
     "name": "stdout",
     "output_type": "stream",
     "text": [
      "伺服器啟動，等待連接並接收...\n",
      "來自 ('127.0.0.1', 36698) 的連接已建立\n",
      "接收到的矩陣：\n",
      "[[-0.38018123  0.30048049  0.87474211  0.00740156]\n",
      " [ 0.91406082 -0.02238357  0.40495894  0.45617846]\n",
      " [ 0.14126211  0.95352524 -0.29614762 -0.19005727]\n",
      " [ 0.          0.          0.          1.        ]]\n",
      "final_place_grasp_pose received\n",
      "final_grasp_pose = \n",
      " [[-0.42523416  0.87011008 -0.27424481  0.57330642]\n",
      " [ 0.90446     0.41873682 -0.09777196 -0.00794761]\n",
      " [ 0.03358558 -0.25993825 -0.9654529  -0.46643612]\n",
      " [ 0.          0.          0.          1.        ]]\n"
     ]
    }
   ],
   "source": [
    "# tcp client\n",
    "final_place_grasp_pose = tcp_utils.start_server('127.0.0.1', 44444)\n",
    "print(\"final_place_grasp_pose received\")\n",
    "\n",
    "# 將此final place pose 轉移回grasp pose\n",
    "relative_grasp_transform = np.linalg.inv(place_pose_world)@ final_place_grasp_pose\n",
    "final_grasp_pose = target_pose_world@ relative_grasp_transform\n",
    "print(\"final_grasp_pose = \\n\", final_grasp_pose)"
   ]
  },
  {
   "attachments": {},
   "cell_type": "markdown",
   "id": "d6356843",
   "metadata": {},
   "source": [
    "## 確認可以放置後, 開始夾取"
   ]
  },
  {
   "cell_type": "code",
   "execution_count": null,
   "id": "0edfc82c",
   "metadata": {},
   "outputs": [],
   "source": [
    "# #Henry set execute the robot arm or not\n",
    "execute = True\n",
    "draw_coordinate = False\n",
    "env._panda.reset()"
   ]
  },
  {
   "cell_type": "code",
   "execution_count": null,
   "id": "15645036",
   "metadata": {},
   "outputs": [],
   "source": [
    "def execute_motion_and_check_pose(env, END_POINT, tolerance=0.02, gripper_state=\"open\", repeat=150, visual_time=None):\n",
    "    \"\"\"\n",
    "    執行動作計畫並檢查最後位姿是否正確。不正確則停5秒\n",
    "    \"\"\"\n",
    "    if draw_coordinate:\n",
    "        env.draw_ef_coordinate(END_POINT, visual_time)\n",
    "    plan = expert_plan(pack_pose(END_POINT), world=True, visual=False)\n",
    "    _ = execute_motion_plan(env, plan, execute=execute, gripper_set=gripper_state, repeat=repeat)\n",
    "    checker = check_pose_difference(env._get_ef_pose(mat=True), END_POINT, tolerance)\n",
    "    if not checker:\n",
    "        print(\"位姿不正確，請檢查位姿\")\n",
    "        time.sleep(5)\n",
    "    print(\"=====================================================\")\n",
    "\n",
    "def adjust_pose_with_bias(pose, bias, option=\"ef\"):\n",
    "    if option == \"ef\":\n",
    "        return pose@transZ(bias)\n",
    "    elif option == \"world\":\n",
    "        return transZ(bias)@pose\n"
   ]
  },
  {
   "cell_type": "code",
   "execution_count": null,
   "id": "ce6873ad",
   "metadata": {},
   "outputs": [],
   "source": [
    "final_grasp_pose_z_bias = adjust_pose_with_bias(final_grasp_pose, -0.05, option=\"ef\")\n",
    "if placing_stage == 1:\n",
    "    mid_retract_pose = transZ(-0.)@ transX(0.3)@ transY(0.2)@ np.eye(4)@ rotZ(np.pi/4*3)@ rotX(np.pi/4*3)\n",
    "elif placing_stage == 2:\n",
    "    mid_retract_pose = transZ(-0.)@ transX(0.3)@ transY(0.2)@ np.eye(4)@ rotZ(np.pi/4*3)@ rotX(np.pi/4*3)\n",
    "final_place_pose_z_bias_top = adjust_pose_with_bias(final_place_grasp_pose, 0.15, option=\"world\")\n",
    "final_place_pose_z_bias_placing = adjust_pose_with_bias(final_place_grasp_pose, 0.02, option=\"world\")\n",
    "final_place_pose_z_bias_release = adjust_pose_with_bias(final_place_grasp_pose, -0.1, option=\"ef\")"
   ]
  },
  {
   "cell_type": "code",
   "execution_count": null,
   "id": "c65a77d5",
   "metadata": {},
   "outputs": [
    {
     "name": "stdout",
     "output_type": "stream",
     "text": [
      "Debug:   RRTstar: Planner range detected to be 7.242362\n",
      "Info:    RRTstar: Started planning with 1 states. Seeking a solution better than 0.00000.\n",
      "Info:    RRTstar: Initial k-nearest value of 310\n",
      "Info:    RRTstar: Found an initial solution with a cost of 1.03 in 36 iterations (37 vertices in the graph)\n"
     ]
    },
    {
     "name": "stdout",
     "output_type": "stream",
     "text": [
      "Interpolate Path length to 30Info:    RRTstar: Created 682 new states. Checked 232903 rewire options. 1 goal states in tree. Final solution cost 1.031\n",
      "\n",
      "translation_diff =  0.03190396124345163\n",
      "rotation_diff =  0.0\n",
      "位姿不正確，請檢查位姿\n",
      "=====================================================\n",
      "not lift！\n",
      "reward: 0\n",
      "Debug:   RRTstar: Planner range detected to be 7.242362\n",
      "Info:    RRTstar: Started planning with 1 states. Seeking a solution better than 0.00000.\n",
      "Info:    RRTstar: Initial k-nearest value of 310\n",
      "Info:    RRTstar: Found an initial solution with a cost of 0.68 in 15 iterations (16 vertices in the graph)\n",
      "Interpolate Path length to 30Info:    RRTstar: Created 937 new states. Checked 439453 rewire options. 1 goal states in tree. Final solution cost 0.678\n",
      "\n",
      "translation_diff =  0.003550574047832506\n",
      "rotation_diff =  0.006764598879464605\n",
      "=====================================================\n",
      "Debug:   RRTstar: Planner range detected to be 7.242362\n",
      "Info:    RRTstar: Started planning with 1 states. Seeking a solution better than 0.00000.\n",
      "Info:    RRTstar: Initial k-nearest value of 310\n",
      "Info:    RRTstar: Found an initial solution with a cost of 0.73 in 33 iterations (34 vertices in the graph)\n",
      "Interpolate Path length to 30\n",
      "Info:    RRTstar: Created 931 new states. Checked 433846 rewire options. 1 goal states in tree. Final solution cost 0.729\n",
      "translation_diff =  0.003926434935432473\n",
      "rotation_diff =  0.0\n",
      "=====================================================\n",
      "Debug:   RRTstar: Planner range detected to be 7.242362\n",
      "Info:    RRTstar: Started planning with 1 states. Seeking a solution better than 0.00000.\n",
      "Info:    RRTstar: Initial k-nearest value of 310\n",
      "Info:    RRTstar: Found an initial solution with a cost of 0.13 in 35 iterations (36 vertices in the graph)\n",
      "Interpolate Path length to 30Info:    RRTstar: Created 980 new states. Checked 480690 rewire options. 1 goal states in tree. Final solution cost 0.134\n",
      "\n",
      "translation_diff =  0.0026174672528539848\n",
      "rotation_diff =  0.0\n",
      "=====================================================\n",
      "Debug:   RRTstar: Planner range detected to be 7.242362\n",
      "Info:    RRTstar: Started planning with 1 states. Seeking a solution better than 0.00000.\n",
      "Info:    RRTstar: Initial k-nearest value of 310\n",
      "Info:    RRTstar: Found an initial solution with a cost of 0.10 in 67 iterations (68 vertices in the graph)\n",
      "Interpolate Path length to 30Info:    RRTstar: Created 898 new states. Checked 403651 rewire options. 1 goal states in tree. Final solution cost 0.097\n",
      "\n",
      "translation_diff =  0.0019383527556369143\n",
      "rotation_diff =  0.0\n",
      "=====================================================\n"
     ]
    }
   ],
   "source": [
    "execute_motion_and_check_pose(env, final_grasp_pose_z_bias, gripper_state=\"open\")\n",
    "time.sleep(1)\n",
    "for i in range(10):\n",
    "    _ = env.step([0, 0, 0.05/10, 0, 0, 0], repeat=100)\n",
    "reward = env.retract()\n",
    "print(f\"reward: {reward}\")\n",
    "execute_motion_and_check_pose(env, mid_retract_pose, tolerance = 0.1, gripper_state=\"close\")\n",
    "execute_motion_and_check_pose(env, final_place_pose_z_bias_top, gripper_state=\"close\")\n",
    "execute_motion_and_check_pose(env, final_place_pose_z_bias_placing, gripper_state=\"close\", repeat=100)\n",
    "move_gripper_smoothly(env, p, 0.0, 0.085)  # open\n",
    "execute_motion_and_check_pose(env, final_place_pose_z_bias_release, gripper_state=\"open\", repeat=100)"
   ]
  },
  {
   "attachments": {},
   "cell_type": "markdown",
   "id": "4fcb7bdd",
   "metadata": {},
   "source": [
    "resetjointArray...（一次抵達)\n",
    "setJointMotorControl2... (step中使用)"
   ]
  },
  {
   "cell_type": "code",
   "execution_count": null,
   "id": "9bdac827",
   "metadata": {},
   "outputs": [
    {
     "name": "stdout",
     "output_type": "stream",
     "text": [
      "The target is not vertical to the ground\n"
     ]
    },
    {
     "ename": "ValueError",
     "evalue": "The target is not vertical to the ground",
     "output_type": "error",
     "traceback": [
      "\u001b[0;31m---------------------------------------------------------------------------\u001b[0m",
      "\u001b[0;31mValueError\u001b[0m                                Traceback (most recent call last)",
      "Cell \u001b[0;32mIn[29], line 9\u001b[0m\n\u001b[1;32m      7\u001b[0m \u001b[38;5;28;01mif\u001b[39;00m cos_theta \u001b[38;5;241m<\u001b[39m \u001b[38;5;241m0.9\u001b[39m:\n\u001b[1;32m      8\u001b[0m     \u001b[38;5;28mprint\u001b[39m(\u001b[38;5;124m\"\u001b[39m\u001b[38;5;124mThe target is not vertical to the ground\u001b[39m\u001b[38;5;124m\"\u001b[39m)\n\u001b[0;32m----> 9\u001b[0m     \u001b[38;5;28;01mraise\u001b[39;00m \u001b[38;5;167;01mValueError\u001b[39;00m(\u001b[38;5;124m\"\u001b[39m\u001b[38;5;124mThe target is not vertical to the ground\u001b[39m\u001b[38;5;124m\"\u001b[39m)\n",
      "\u001b[0;31mValueError\u001b[0m: The target is not vertical to the ground"
     ]
    },
    {
     "ename": "",
     "evalue": "",
     "output_type": "error",
     "traceback": [
      "\u001b[1;31mThe Kernel crashed while executing code in the current cell or a previous cell. \n",
      "\u001b[1;31mPlease review the code in the cell(s) to identify a possible cause of the failure. \n",
      "\u001b[1;31mClick <a href='https://aka.ms/vscodeJupyterKernelCrash'>here</a> for more info. \n",
      "\u001b[1;31mView Jupyter <a href='command:jupyter.viewOutput'>log</a> for further details."
     ]
    }
   ],
   "source": [
    "env.target_idx = closest_target_index\n",
    "target_final = env._get_ef_pose(mat=True)@ env._get_target_relative_pose(option = 'ef')\n",
    "# check the z axis of the target_final with the [0, 0, 1] vector\n",
    "z_axis_target = target_final[:3, 2]\n",
    "z_axis_target = z_axis_target/np.linalg.norm(z_axis_target)\n",
    "cos_theta = np.dot(np.array([0, 0, 1]), z_axis_target)\n",
    "if cos_theta < 0.9:\n",
    "    print(\"The target is not vertical to the ground\")\n",
    "    raise ValueError(\"The target is not vertical to the ground\")\n"
   ]
  }
 ],
 "metadata": {
  "kernelspec": {
   "display_name": "Python 3",
   "language": "python",
   "name": "python3"
  },
  "language_info": {
   "codemirror_mode": {
    "name": "ipython",
    "version": 3
   },
   "file_extension": ".py",
   "mimetype": "text/x-python",
   "name": "python",
   "nbconvert_exporter": "python",
   "pygments_lexer": "ipython3",
   "version": "3.8.10"
  }
 },
 "nbformat": 4,
 "nbformat_minor": 5
}
